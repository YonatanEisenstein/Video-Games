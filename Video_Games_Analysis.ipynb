{
  "nbformat": 4,
  "nbformat_minor": 0,
  "metadata": {
    "colab": {
      "name": "Integrated Project: Video-Games Analysis.ipynb",
      "provenance": [],
      "collapsed_sections": [],
      "toc_visible": true,
      "authorship_tag": "ABX9TyM/HTpDDpJhBSobgZOnVfaz",
      "include_colab_link": true
    },
    "kernelspec": {
      "name": "python3",
      "display_name": "Python 3"
    },
    "language_info": {
      "name": "python"
    }
  },
  "cells": [
    {
      "cell_type": "markdown",
      "metadata": {
        "id": "view-in-github",
        "colab_type": "text"
      },
      "source": [
        "<a href=\"https://colab.research.google.com/github/YonatanEisenstein/Video-Games/blob/main/Video_Games_Analysis.ipynb\" target=\"_parent\"><img src=\"https://colab.research.google.com/assets/colab-badge.svg\" alt=\"Open In Colab\"/></a>"
      ]
    },
    {
      "cell_type": "markdown",
      "metadata": {
        "id": "GQMQXOAsPIsn"
      },
      "source": [
        "# Games Analysis"
      ]
    },
    {
      "cell_type": "markdown",
      "metadata": {
        "id": "pVXVJberNXuM"
      },
      "source": [
        "# Introduction"
      ]
    },
    {
      "cell_type": "markdown",
      "metadata": {
        "id": "i-8HRMnWNYfi"
      },
      "source": [
        "In this project I will analyze datset with some features regarding video games. I will identify patterns that determine whether a game succeeds or not. This should allow to spot potential big winners and plan advertising campaigns. The range of years of the data is 1980 - 2016, But this analysis could easily be implement to data from 2021 or 2026."
      ]
    },
    {
      "cell_type": "markdown",
      "metadata": {
        "id": "Uv6ipdROOrVo"
      },
      "source": [
        "# DataSet Description"
      ]
    },
    {
      "cell_type": "markdown",
      "metadata": {
        "id": "f_sk_kZJOvjh"
      },
      "source": [
        "— Name\n",
        "\n",
        "— Platform\n",
        "\n",
        "— Year_of_Release\n",
        "\n",
        "— Genre\n",
        "\n",
        "— NA_sales (North American sales in USD million)\n",
        "\n",
        "— EU_sales (sales in Europe in USD million)\n",
        "\n",
        "— JP_sales (sales in Japan in USD million)\n",
        "\n",
        "— Other_sales (sales in other countries in USD million)\n",
        "\n",
        "— Critic_Score (maximum of 100)\n",
        "\n",
        "— User_Score (maximum of 10)\n",
        "\n",
        "— Rating (ESRB)"
      ]
    },
    {
      "cell_type": "markdown",
      "metadata": {
        "id": "xregKxOFPB-y"
      },
      "source": [
        "# Read the Data"
      ]
    },
    {
      "cell_type": "code",
      "metadata": {
        "id": "b-X0TLcF8vRa"
      },
      "source": [
        "import numpy as np\n",
        "import pandas as pd\n",
        "import matplotlib.pyplot as plt\n",
        "import seaborn as sns\n",
        "import math\n",
        "from scipy import stats as st\n",
        "from IPython.display import display"
      ],
      "execution_count": 1,
      "outputs": []
    },
    {
      "cell_type": "markdown",
      "metadata": {
        "id": "n9Jwq24m8u4A"
      },
      "source": [
        ""
      ]
    },
    {
      "cell_type": "code",
      "metadata": {
        "colab": {
          "base_uri": "https://localhost:8080/",
          "height": 295
        },
        "id": "9eYzzqgT8tBP",
        "outputId": "b959a26f-c00e-4be1-e18f-60d9fd16faf7"
      },
      "source": [
        "try:\n",
        "  games = pd.read_csv('games.csv')\n",
        "except:\n",
        "  games = pd.read_csv('https://code.s3.yandex.net/datasets/games.csv')\n",
        "\n",
        "games.head(5)"
      ],
      "execution_count": 2,
      "outputs": [
        {
          "output_type": "execute_result",
          "data": {
            "text/html": [
              "<div>\n",
              "<style scoped>\n",
              "    .dataframe tbody tr th:only-of-type {\n",
              "        vertical-align: middle;\n",
              "    }\n",
              "\n",
              "    .dataframe tbody tr th {\n",
              "        vertical-align: top;\n",
              "    }\n",
              "\n",
              "    .dataframe thead th {\n",
              "        text-align: right;\n",
              "    }\n",
              "</style>\n",
              "<table border=\"1\" class=\"dataframe\">\n",
              "  <thead>\n",
              "    <tr style=\"text-align: right;\">\n",
              "      <th></th>\n",
              "      <th>Name</th>\n",
              "      <th>Platform</th>\n",
              "      <th>Year_of_Release</th>\n",
              "      <th>Genre</th>\n",
              "      <th>NA_sales</th>\n",
              "      <th>EU_sales</th>\n",
              "      <th>JP_sales</th>\n",
              "      <th>Other_sales</th>\n",
              "      <th>Critic_Score</th>\n",
              "      <th>User_Score</th>\n",
              "      <th>Rating</th>\n",
              "    </tr>\n",
              "  </thead>\n",
              "  <tbody>\n",
              "    <tr>\n",
              "      <th>0</th>\n",
              "      <td>Wii Sports</td>\n",
              "      <td>Wii</td>\n",
              "      <td>2006.0</td>\n",
              "      <td>Sports</td>\n",
              "      <td>41.36</td>\n",
              "      <td>28.96</td>\n",
              "      <td>3.77</td>\n",
              "      <td>8.45</td>\n",
              "      <td>76.0</td>\n",
              "      <td>8</td>\n",
              "      <td>E</td>\n",
              "    </tr>\n",
              "    <tr>\n",
              "      <th>1</th>\n",
              "      <td>Super Mario Bros.</td>\n",
              "      <td>NES</td>\n",
              "      <td>1985.0</td>\n",
              "      <td>Platform</td>\n",
              "      <td>29.08</td>\n",
              "      <td>3.58</td>\n",
              "      <td>6.81</td>\n",
              "      <td>0.77</td>\n",
              "      <td>NaN</td>\n",
              "      <td>NaN</td>\n",
              "      <td>NaN</td>\n",
              "    </tr>\n",
              "    <tr>\n",
              "      <th>2</th>\n",
              "      <td>Mario Kart Wii</td>\n",
              "      <td>Wii</td>\n",
              "      <td>2008.0</td>\n",
              "      <td>Racing</td>\n",
              "      <td>15.68</td>\n",
              "      <td>12.76</td>\n",
              "      <td>3.79</td>\n",
              "      <td>3.29</td>\n",
              "      <td>82.0</td>\n",
              "      <td>8.3</td>\n",
              "      <td>E</td>\n",
              "    </tr>\n",
              "    <tr>\n",
              "      <th>3</th>\n",
              "      <td>Wii Sports Resort</td>\n",
              "      <td>Wii</td>\n",
              "      <td>2009.0</td>\n",
              "      <td>Sports</td>\n",
              "      <td>15.61</td>\n",
              "      <td>10.93</td>\n",
              "      <td>3.28</td>\n",
              "      <td>2.95</td>\n",
              "      <td>80.0</td>\n",
              "      <td>8</td>\n",
              "      <td>E</td>\n",
              "    </tr>\n",
              "    <tr>\n",
              "      <th>4</th>\n",
              "      <td>Pokemon Red/Pokemon Blue</td>\n",
              "      <td>GB</td>\n",
              "      <td>1996.0</td>\n",
              "      <td>Role-Playing</td>\n",
              "      <td>11.27</td>\n",
              "      <td>8.89</td>\n",
              "      <td>10.22</td>\n",
              "      <td>1.00</td>\n",
              "      <td>NaN</td>\n",
              "      <td>NaN</td>\n",
              "      <td>NaN</td>\n",
              "    </tr>\n",
              "  </tbody>\n",
              "</table>\n",
              "</div>"
            ],
            "text/plain": [
              "                       Name Platform  ...  User_Score Rating\n",
              "0                Wii Sports      Wii  ...           8      E\n",
              "1         Super Mario Bros.      NES  ...         NaN    NaN\n",
              "2            Mario Kart Wii      Wii  ...         8.3      E\n",
              "3         Wii Sports Resort      Wii  ...           8      E\n",
              "4  Pokemon Red/Pokemon Blue       GB  ...         NaN    NaN\n",
              "\n",
              "[5 rows x 11 columns]"
            ]
          },
          "metadata": {
            "tags": []
          },
          "execution_count": 2
        }
      ]
    },
    {
      "cell_type": "markdown",
      "metadata": {
        "id": "fL6TEep68rMB"
      },
      "source": [
        "# Data Preproccessing"
      ]
    },
    {
      "cell_type": "markdown",
      "metadata": {
        "id": "kSZvPrsHurTF"
      },
      "source": [
        "## Initial preprocessing"
      ]
    },
    {
      "cell_type": "code",
      "metadata": {
        "id": "XEAtgcD6Pt9Y"
      },
      "source": [
        "# Clean column names and convert them to lower case\n",
        "games.columns = games.columns.str.strip().str.lower()"
      ],
      "execution_count": 3,
      "outputs": []
    },
    {
      "cell_type": "code",
      "metadata": {
        "colab": {
          "base_uri": "https://localhost:8080/",
          "height": 81
        },
        "id": "cGao6d95P1o8",
        "outputId": "8fa341f6-2cd9-4cfb-b275-9709502ff403"
      },
      "source": [
        "games.head(1)"
      ],
      "execution_count": 4,
      "outputs": [
        {
          "output_type": "execute_result",
          "data": {
            "text/html": [
              "<div>\n",
              "<style scoped>\n",
              "    .dataframe tbody tr th:only-of-type {\n",
              "        vertical-align: middle;\n",
              "    }\n",
              "\n",
              "    .dataframe tbody tr th {\n",
              "        vertical-align: top;\n",
              "    }\n",
              "\n",
              "    .dataframe thead th {\n",
              "        text-align: right;\n",
              "    }\n",
              "</style>\n",
              "<table border=\"1\" class=\"dataframe\">\n",
              "  <thead>\n",
              "    <tr style=\"text-align: right;\">\n",
              "      <th></th>\n",
              "      <th>name</th>\n",
              "      <th>platform</th>\n",
              "      <th>year_of_release</th>\n",
              "      <th>genre</th>\n",
              "      <th>na_sales</th>\n",
              "      <th>eu_sales</th>\n",
              "      <th>jp_sales</th>\n",
              "      <th>other_sales</th>\n",
              "      <th>critic_score</th>\n",
              "      <th>user_score</th>\n",
              "      <th>rating</th>\n",
              "    </tr>\n",
              "  </thead>\n",
              "  <tbody>\n",
              "    <tr>\n",
              "      <th>0</th>\n",
              "      <td>Wii Sports</td>\n",
              "      <td>Wii</td>\n",
              "      <td>2006.0</td>\n",
              "      <td>Sports</td>\n",
              "      <td>41.36</td>\n",
              "      <td>28.96</td>\n",
              "      <td>3.77</td>\n",
              "      <td>8.45</td>\n",
              "      <td>76.0</td>\n",
              "      <td>8</td>\n",
              "      <td>E</td>\n",
              "    </tr>\n",
              "  </tbody>\n",
              "</table>\n",
              "</div>"
            ],
            "text/plain": [
              "         name platform  year_of_release  ... critic_score  user_score  rating\n",
              "0  Wii Sports      Wii           2006.0  ...         76.0           8       E\n",
              "\n",
              "[1 rows x 11 columns]"
            ]
          },
          "metadata": {
            "tags": []
          },
          "execution_count": 4
        }
      ]
    },
    {
      "cell_type": "code",
      "metadata": {
        "colab": {
          "base_uri": "https://localhost:8080/"
        },
        "id": "lhaV6LAa9hpd",
        "outputId": "6a6ccadf-18a2-4e23-d947-7c74442cbd27"
      },
      "source": [
        "games.shape "
      ],
      "execution_count": 5,
      "outputs": [
        {
          "output_type": "execute_result",
          "data": {
            "text/plain": [
              "(16715, 11)"
            ]
          },
          "metadata": {
            "tags": []
          },
          "execution_count": 5
        }
      ]
    },
    {
      "cell_type": "code",
      "metadata": {
        "colab": {
          "base_uri": "https://localhost:8080/",
          "height": 300
        },
        "id": "K77AZWzls2rL",
        "outputId": "878dd6b5-ab92-41b6-a6f3-40557b0af099"
      },
      "source": [
        "games.describe()"
      ],
      "execution_count": 6,
      "outputs": [
        {
          "output_type": "execute_result",
          "data": {
            "text/html": [
              "<div>\n",
              "<style scoped>\n",
              "    .dataframe tbody tr th:only-of-type {\n",
              "        vertical-align: middle;\n",
              "    }\n",
              "\n",
              "    .dataframe tbody tr th {\n",
              "        vertical-align: top;\n",
              "    }\n",
              "\n",
              "    .dataframe thead th {\n",
              "        text-align: right;\n",
              "    }\n",
              "</style>\n",
              "<table border=\"1\" class=\"dataframe\">\n",
              "  <thead>\n",
              "    <tr style=\"text-align: right;\">\n",
              "      <th></th>\n",
              "      <th>year_of_release</th>\n",
              "      <th>na_sales</th>\n",
              "      <th>eu_sales</th>\n",
              "      <th>jp_sales</th>\n",
              "      <th>other_sales</th>\n",
              "      <th>critic_score</th>\n",
              "    </tr>\n",
              "  </thead>\n",
              "  <tbody>\n",
              "    <tr>\n",
              "      <th>count</th>\n",
              "      <td>16446.000000</td>\n",
              "      <td>16715.000000</td>\n",
              "      <td>16715.000000</td>\n",
              "      <td>16715.000000</td>\n",
              "      <td>16715.000000</td>\n",
              "      <td>8137.000000</td>\n",
              "    </tr>\n",
              "    <tr>\n",
              "      <th>mean</th>\n",
              "      <td>2006.484616</td>\n",
              "      <td>0.263377</td>\n",
              "      <td>0.145060</td>\n",
              "      <td>0.077617</td>\n",
              "      <td>0.047342</td>\n",
              "      <td>68.967679</td>\n",
              "    </tr>\n",
              "    <tr>\n",
              "      <th>std</th>\n",
              "      <td>5.877050</td>\n",
              "      <td>0.813604</td>\n",
              "      <td>0.503339</td>\n",
              "      <td>0.308853</td>\n",
              "      <td>0.186731</td>\n",
              "      <td>13.938165</td>\n",
              "    </tr>\n",
              "    <tr>\n",
              "      <th>min</th>\n",
              "      <td>1980.000000</td>\n",
              "      <td>0.000000</td>\n",
              "      <td>0.000000</td>\n",
              "      <td>0.000000</td>\n",
              "      <td>0.000000</td>\n",
              "      <td>13.000000</td>\n",
              "    </tr>\n",
              "    <tr>\n",
              "      <th>25%</th>\n",
              "      <td>2003.000000</td>\n",
              "      <td>0.000000</td>\n",
              "      <td>0.000000</td>\n",
              "      <td>0.000000</td>\n",
              "      <td>0.000000</td>\n",
              "      <td>60.000000</td>\n",
              "    </tr>\n",
              "    <tr>\n",
              "      <th>50%</th>\n",
              "      <td>2007.000000</td>\n",
              "      <td>0.080000</td>\n",
              "      <td>0.020000</td>\n",
              "      <td>0.000000</td>\n",
              "      <td>0.010000</td>\n",
              "      <td>71.000000</td>\n",
              "    </tr>\n",
              "    <tr>\n",
              "      <th>75%</th>\n",
              "      <td>2010.000000</td>\n",
              "      <td>0.240000</td>\n",
              "      <td>0.110000</td>\n",
              "      <td>0.040000</td>\n",
              "      <td>0.030000</td>\n",
              "      <td>79.000000</td>\n",
              "    </tr>\n",
              "    <tr>\n",
              "      <th>max</th>\n",
              "      <td>2016.000000</td>\n",
              "      <td>41.360000</td>\n",
              "      <td>28.960000</td>\n",
              "      <td>10.220000</td>\n",
              "      <td>10.570000</td>\n",
              "      <td>98.000000</td>\n",
              "    </tr>\n",
              "  </tbody>\n",
              "</table>\n",
              "</div>"
            ],
            "text/plain": [
              "       year_of_release      na_sales  ...   other_sales  critic_score\n",
              "count     16446.000000  16715.000000  ...  16715.000000   8137.000000\n",
              "mean       2006.484616      0.263377  ...      0.047342     68.967679\n",
              "std           5.877050      0.813604  ...      0.186731     13.938165\n",
              "min        1980.000000      0.000000  ...      0.000000     13.000000\n",
              "25%        2003.000000      0.000000  ...      0.000000     60.000000\n",
              "50%        2007.000000      0.080000  ...      0.010000     71.000000\n",
              "75%        2010.000000      0.240000  ...      0.030000     79.000000\n",
              "max        2016.000000     41.360000  ...     10.570000     98.000000\n",
              "\n",
              "[8 rows x 6 columns]"
            ]
          },
          "metadata": {
            "tags": []
          },
          "execution_count": 6
        }
      ]
    },
    {
      "cell_type": "markdown",
      "metadata": {
        "id": "t0hyLCoetLyy"
      },
      "source": [
        "One question rises: Why 'user score' not apear in this metrix?"
      ]
    },
    {
      "cell_type": "code",
      "metadata": {
        "colab": {
          "base_uri": "https://localhost:8080/"
        },
        "id": "TEDaERVosn3y",
        "outputId": "e84007a5-86ba-4230-efa4-e5744872e9f6"
      },
      "source": [
        "games.info()"
      ],
      "execution_count": 7,
      "outputs": [
        {
          "output_type": "stream",
          "text": [
            "<class 'pandas.core.frame.DataFrame'>\n",
            "RangeIndex: 16715 entries, 0 to 16714\n",
            "Data columns (total 11 columns):\n",
            " #   Column           Non-Null Count  Dtype  \n",
            "---  ------           --------------  -----  \n",
            " 0   name             16713 non-null  object \n",
            " 1   platform         16715 non-null  object \n",
            " 2   year_of_release  16446 non-null  float64\n",
            " 3   genre            16713 non-null  object \n",
            " 4   na_sales         16715 non-null  float64\n",
            " 5   eu_sales         16715 non-null  float64\n",
            " 6   jp_sales         16715 non-null  float64\n",
            " 7   other_sales      16715 non-null  float64\n",
            " 8   critic_score     8137 non-null   float64\n",
            " 9   user_score       10014 non-null  object \n",
            " 10  rating           9949 non-null   object \n",
            "dtypes: float64(6), object(5)\n",
            "memory usage: 1.4+ MB\n"
          ],
          "name": "stdout"
        }
      ]
    },
    {
      "cell_type": "markdown",
      "metadata": {
        "id": "mhv9BqLXtimX"
      },
      "source": [
        "Well, this is because its dtype is object. I will convert it to int and multiply it by 10 in order to set same scale as of criric_score. critic_score will be coverted to int too .There is no floats in this columns."
      ]
    },
    {
      "cell_type": "code",
      "metadata": {
        "id": "rOrlL5aFt3Fg"
      },
      "source": [
        "games['user_score'] = pd.to_numeric(games['user_score'], errors='coerce')"
      ],
      "execution_count": 8,
      "outputs": []
    },
    {
      "cell_type": "code",
      "metadata": {
        "id": "jPM4Mo15uiCR"
      },
      "source": [
        "games['user_score'] = games['user_score'] * 10"
      ],
      "execution_count": 9,
      "outputs": []
    },
    {
      "cell_type": "code",
      "metadata": {
        "id": "iHdWu1VFvYwE"
      },
      "source": [
        "games['user_score'] = games['user_score'].astype('Int8')\n",
        "games['critic_score'] = games['critic_score'].astype('Int8')"
      ],
      "execution_count": 10,
      "outputs": []
    },
    {
      "cell_type": "code",
      "metadata": {
        "colab": {
          "base_uri": "https://localhost:8080/",
          "height": 300
        },
        "id": "XBv2MgFvwPZm",
        "outputId": "b95b847d-ffc2-44c8-cf44-0263e8fe6ca4"
      },
      "source": [
        "games.describe()"
      ],
      "execution_count": 11,
      "outputs": [
        {
          "output_type": "execute_result",
          "data": {
            "text/html": [
              "<div>\n",
              "<style scoped>\n",
              "    .dataframe tbody tr th:only-of-type {\n",
              "        vertical-align: middle;\n",
              "    }\n",
              "\n",
              "    .dataframe tbody tr th {\n",
              "        vertical-align: top;\n",
              "    }\n",
              "\n",
              "    .dataframe thead th {\n",
              "        text-align: right;\n",
              "    }\n",
              "</style>\n",
              "<table border=\"1\" class=\"dataframe\">\n",
              "  <thead>\n",
              "    <tr style=\"text-align: right;\">\n",
              "      <th></th>\n",
              "      <th>year_of_release</th>\n",
              "      <th>na_sales</th>\n",
              "      <th>eu_sales</th>\n",
              "      <th>jp_sales</th>\n",
              "      <th>other_sales</th>\n",
              "      <th>critic_score</th>\n",
              "      <th>user_score</th>\n",
              "    </tr>\n",
              "  </thead>\n",
              "  <tbody>\n",
              "    <tr>\n",
              "      <th>count</th>\n",
              "      <td>16446.000000</td>\n",
              "      <td>16715.000000</td>\n",
              "      <td>16715.000000</td>\n",
              "      <td>16715.000000</td>\n",
              "      <td>16715.000000</td>\n",
              "      <td>8137.000000</td>\n",
              "      <td>7590.000000</td>\n",
              "    </tr>\n",
              "    <tr>\n",
              "      <th>mean</th>\n",
              "      <td>2006.484616</td>\n",
              "      <td>0.263377</td>\n",
              "      <td>0.145060</td>\n",
              "      <td>0.077617</td>\n",
              "      <td>0.047342</td>\n",
              "      <td>68.967679</td>\n",
              "      <td>71.250461</td>\n",
              "    </tr>\n",
              "    <tr>\n",
              "      <th>std</th>\n",
              "      <td>5.877050</td>\n",
              "      <td>0.813604</td>\n",
              "      <td>0.503339</td>\n",
              "      <td>0.308853</td>\n",
              "      <td>0.186731</td>\n",
              "      <td>13.938165</td>\n",
              "      <td>15.000061</td>\n",
              "    </tr>\n",
              "    <tr>\n",
              "      <th>min</th>\n",
              "      <td>1980.000000</td>\n",
              "      <td>0.000000</td>\n",
              "      <td>0.000000</td>\n",
              "      <td>0.000000</td>\n",
              "      <td>0.000000</td>\n",
              "      <td>13.000000</td>\n",
              "      <td>0.000000</td>\n",
              "    </tr>\n",
              "    <tr>\n",
              "      <th>25%</th>\n",
              "      <td>2003.000000</td>\n",
              "      <td>0.000000</td>\n",
              "      <td>0.000000</td>\n",
              "      <td>0.000000</td>\n",
              "      <td>0.000000</td>\n",
              "      <td>60.000000</td>\n",
              "      <td>64.000000</td>\n",
              "    </tr>\n",
              "    <tr>\n",
              "      <th>50%</th>\n",
              "      <td>2007.000000</td>\n",
              "      <td>0.080000</td>\n",
              "      <td>0.020000</td>\n",
              "      <td>0.000000</td>\n",
              "      <td>0.010000</td>\n",
              "      <td>71.000000</td>\n",
              "      <td>75.000000</td>\n",
              "    </tr>\n",
              "    <tr>\n",
              "      <th>75%</th>\n",
              "      <td>2010.000000</td>\n",
              "      <td>0.240000</td>\n",
              "      <td>0.110000</td>\n",
              "      <td>0.040000</td>\n",
              "      <td>0.030000</td>\n",
              "      <td>79.000000</td>\n",
              "      <td>82.000000</td>\n",
              "    </tr>\n",
              "    <tr>\n",
              "      <th>max</th>\n",
              "      <td>2016.000000</td>\n",
              "      <td>41.360000</td>\n",
              "      <td>28.960000</td>\n",
              "      <td>10.220000</td>\n",
              "      <td>10.570000</td>\n",
              "      <td>98.000000</td>\n",
              "      <td>97.000000</td>\n",
              "    </tr>\n",
              "  </tbody>\n",
              "</table>\n",
              "</div>"
            ],
            "text/plain": [
              "       year_of_release      na_sales  ...  critic_score   user_score\n",
              "count     16446.000000  16715.000000  ...   8137.000000  7590.000000\n",
              "mean       2006.484616      0.263377  ...     68.967679    71.250461\n",
              "std           5.877050      0.813604  ...     13.938165    15.000061\n",
              "min        1980.000000      0.000000  ...     13.000000     0.000000\n",
              "25%        2003.000000      0.000000  ...     60.000000    64.000000\n",
              "50%        2007.000000      0.080000  ...     71.000000    75.000000\n",
              "75%        2010.000000      0.240000  ...     79.000000    82.000000\n",
              "max        2016.000000     41.360000  ...     98.000000    97.000000\n",
              "\n",
              "[8 rows x 7 columns]"
            ]
          },
          "metadata": {
            "tags": []
          },
          "execution_count": 11
        }
      ]
    },
    {
      "cell_type": "code",
      "metadata": {
        "colab": {
          "base_uri": "https://localhost:8080/"
        },
        "id": "UJwwQ48Dw1gN",
        "outputId": "f1444cf5-abe1-448d-b9b3-9b0857a8284a"
      },
      "source": [
        "games.info()"
      ],
      "execution_count": 12,
      "outputs": [
        {
          "output_type": "stream",
          "text": [
            "<class 'pandas.core.frame.DataFrame'>\n",
            "RangeIndex: 16715 entries, 0 to 16714\n",
            "Data columns (total 11 columns):\n",
            " #   Column           Non-Null Count  Dtype  \n",
            "---  ------           --------------  -----  \n",
            " 0   name             16713 non-null  object \n",
            " 1   platform         16715 non-null  object \n",
            " 2   year_of_release  16446 non-null  float64\n",
            " 3   genre            16713 non-null  object \n",
            " 4   na_sales         16715 non-null  float64\n",
            " 5   eu_sales         16715 non-null  float64\n",
            " 6   jp_sales         16715 non-null  float64\n",
            " 7   other_sales      16715 non-null  float64\n",
            " 8   critic_score     8137 non-null   Int8   \n",
            " 9   user_score       7590 non-null   Int8   \n",
            " 10  rating           9949 non-null   object \n",
            "dtypes: Int8(2), float64(5), object(4)\n",
            "memory usage: 1.2+ MB\n"
          ],
          "name": "stdout"
        }
      ]
    },
    {
      "cell_type": "markdown",
      "metadata": {
        "id": "LuffRH8V-QMu"
      },
      "source": [
        "Well, now I will check how many differnt values there is in each column"
      ]
    },
    {
      "cell_type": "code",
      "metadata": {
        "colab": {
          "base_uri": "https://localhost:8080/"
        },
        "id": "nnzWVv0LQMu-",
        "outputId": "c47d2f9c-0fa5-4b9b-f068-ee22785a4288"
      },
      "source": [
        "games.nunique()"
      ],
      "execution_count": 13,
      "outputs": [
        {
          "output_type": "execute_result",
          "data": {
            "text/plain": [
              "name               11559\n",
              "platform              31\n",
              "year_of_release       37\n",
              "genre                 12\n",
              "na_sales             402\n",
              "eu_sales             307\n",
              "jp_sales             244\n",
              "other_sales          155\n",
              "critic_score          82\n",
              "user_score            95\n",
              "rating                 8\n",
              "dtype: int64"
            ]
          },
          "metadata": {
            "tags": []
          },
          "execution_count": 13
        }
      ]
    },
    {
      "cell_type": "markdown",
      "metadata": {
        "id": "dKTVT5ts-fgt"
      },
      "source": [
        "Seems like there is a games that repeat in several rows. Is there duplicates?"
      ]
    },
    {
      "cell_type": "code",
      "metadata": {
        "colab": {
          "base_uri": "https://localhost:8080/"
        },
        "id": "0_f8ApsI8Ibz",
        "outputId": "96d38e9e-dfce-4393-86f5-f4cba936f718"
      },
      "source": [
        "games.duplicated().sum()"
      ],
      "execution_count": 14,
      "outputs": [
        {
          "output_type": "execute_result",
          "data": {
            "text/plain": [
              "0"
            ]
          },
          "metadata": {
            "tags": []
          },
          "execution_count": 14
        }
      ]
    },
    {
      "cell_type": "markdown",
      "metadata": {
        "id": "rKFDXIugCCLc"
      },
      "source": [
        "Ok, so maybe there is some games that could be played on several platforms"
      ]
    },
    {
      "cell_type": "code",
      "metadata": {
        "colab": {
          "base_uri": "https://localhost:8080/"
        },
        "id": "X_lkg-So-odY",
        "outputId": "f4dc9f06-d8e5-423f-928d-0301cf4e3060"
      },
      "source": [
        "games['name'].value_counts().head(10)"
      ],
      "execution_count": 15,
      "outputs": [
        {
          "output_type": "execute_result",
          "data": {
            "text/plain": [
              "Need for Speed: Most Wanted                12\n",
              "Ratatouille                                 9\n",
              "LEGO Marvel Super Heroes                    9\n",
              "FIFA 14                                     9\n",
              "Madden NFL 07                               9\n",
              "Madden NFL 08                               8\n",
              "Cars                                        8\n",
              "Lego Batman 3: Beyond Gotham                8\n",
              "LEGO Jurassic World                         8\n",
              "LEGO Star Wars II: The Original Trilogy     8\n",
              "Name: name, dtype: int64"
            ]
          },
          "metadata": {
            "tags": []
          },
          "execution_count": 15
        }
      ]
    },
    {
      "cell_type": "code",
      "metadata": {
        "colab": {
          "base_uri": "https://localhost:8080/",
          "height": 1000
        },
        "id": "-xfTfTqh-0DH",
        "outputId": "1c916818-7370-434c-bb8e-ede250bdcad9"
      },
      "source": [
        "games[games['name'] == 'Need for Speed: Most Wanted']"
      ],
      "execution_count": 16,
      "outputs": [
        {
          "output_type": "execute_result",
          "data": {
            "text/html": [
              "<div>\n",
              "<style scoped>\n",
              "    .dataframe tbody tr th:only-of-type {\n",
              "        vertical-align: middle;\n",
              "    }\n",
              "\n",
              "    .dataframe tbody tr th {\n",
              "        vertical-align: top;\n",
              "    }\n",
              "\n",
              "    .dataframe thead th {\n",
              "        text-align: right;\n",
              "    }\n",
              "</style>\n",
              "<table border=\"1\" class=\"dataframe\">\n",
              "  <thead>\n",
              "    <tr style=\"text-align: right;\">\n",
              "      <th></th>\n",
              "      <th>name</th>\n",
              "      <th>platform</th>\n",
              "      <th>year_of_release</th>\n",
              "      <th>genre</th>\n",
              "      <th>na_sales</th>\n",
              "      <th>eu_sales</th>\n",
              "      <th>jp_sales</th>\n",
              "      <th>other_sales</th>\n",
              "      <th>critic_score</th>\n",
              "      <th>user_score</th>\n",
              "      <th>rating</th>\n",
              "    </tr>\n",
              "  </thead>\n",
              "  <tbody>\n",
              "    <tr>\n",
              "      <th>253</th>\n",
              "      <td>Need for Speed: Most Wanted</td>\n",
              "      <td>PS2</td>\n",
              "      <td>2005.0</td>\n",
              "      <td>Racing</td>\n",
              "      <td>2.03</td>\n",
              "      <td>1.79</td>\n",
              "      <td>0.08</td>\n",
              "      <td>0.47</td>\n",
              "      <td>82</td>\n",
              "      <td>91</td>\n",
              "      <td>T</td>\n",
              "    </tr>\n",
              "    <tr>\n",
              "      <th>523</th>\n",
              "      <td>Need for Speed: Most Wanted</td>\n",
              "      <td>PS3</td>\n",
              "      <td>2012.0</td>\n",
              "      <td>Racing</td>\n",
              "      <td>0.71</td>\n",
              "      <td>1.46</td>\n",
              "      <td>0.06</td>\n",
              "      <td>0.58</td>\n",
              "      <td>&lt;NA&gt;</td>\n",
              "      <td>&lt;NA&gt;</td>\n",
              "      <td>NaN</td>\n",
              "    </tr>\n",
              "    <tr>\n",
              "      <th>1190</th>\n",
              "      <td>Need for Speed: Most Wanted</td>\n",
              "      <td>X360</td>\n",
              "      <td>2012.0</td>\n",
              "      <td>Racing</td>\n",
              "      <td>0.62</td>\n",
              "      <td>0.78</td>\n",
              "      <td>0.01</td>\n",
              "      <td>0.15</td>\n",
              "      <td>83</td>\n",
              "      <td>85</td>\n",
              "      <td>T</td>\n",
              "    </tr>\n",
              "    <tr>\n",
              "      <th>1591</th>\n",
              "      <td>Need for Speed: Most Wanted</td>\n",
              "      <td>X360</td>\n",
              "      <td>2005.0</td>\n",
              "      <td>Racing</td>\n",
              "      <td>1.00</td>\n",
              "      <td>0.13</td>\n",
              "      <td>0.02</td>\n",
              "      <td>0.10</td>\n",
              "      <td>83</td>\n",
              "      <td>85</td>\n",
              "      <td>T</td>\n",
              "    </tr>\n",
              "    <tr>\n",
              "      <th>1998</th>\n",
              "      <td>Need for Speed: Most Wanted</td>\n",
              "      <td>XB</td>\n",
              "      <td>2005.0</td>\n",
              "      <td>Racing</td>\n",
              "      <td>0.53</td>\n",
              "      <td>0.46</td>\n",
              "      <td>0.00</td>\n",
              "      <td>0.05</td>\n",
              "      <td>83</td>\n",
              "      <td>88</td>\n",
              "      <td>T</td>\n",
              "    </tr>\n",
              "    <tr>\n",
              "      <th>2048</th>\n",
              "      <td>Need for Speed: Most Wanted</td>\n",
              "      <td>PSV</td>\n",
              "      <td>2012.0</td>\n",
              "      <td>Racing</td>\n",
              "      <td>0.33</td>\n",
              "      <td>0.45</td>\n",
              "      <td>0.01</td>\n",
              "      <td>0.22</td>\n",
              "      <td>&lt;NA&gt;</td>\n",
              "      <td>&lt;NA&gt;</td>\n",
              "      <td>NaN</td>\n",
              "    </tr>\n",
              "    <tr>\n",
              "      <th>3581</th>\n",
              "      <td>Need for Speed: Most Wanted</td>\n",
              "      <td>GC</td>\n",
              "      <td>2005.0</td>\n",
              "      <td>Racing</td>\n",
              "      <td>0.43</td>\n",
              "      <td>0.11</td>\n",
              "      <td>0.00</td>\n",
              "      <td>0.02</td>\n",
              "      <td>80</td>\n",
              "      <td>91</td>\n",
              "      <td>T</td>\n",
              "    </tr>\n",
              "    <tr>\n",
              "      <th>5972</th>\n",
              "      <td>Need for Speed: Most Wanted</td>\n",
              "      <td>PC</td>\n",
              "      <td>2005.0</td>\n",
              "      <td>Racing</td>\n",
              "      <td>0.02</td>\n",
              "      <td>0.23</td>\n",
              "      <td>0.00</td>\n",
              "      <td>0.04</td>\n",
              "      <td>82</td>\n",
              "      <td>85</td>\n",
              "      <td>T</td>\n",
              "    </tr>\n",
              "    <tr>\n",
              "      <th>6273</th>\n",
              "      <td>Need for Speed: Most Wanted</td>\n",
              "      <td>WiiU</td>\n",
              "      <td>2013.0</td>\n",
              "      <td>Racing</td>\n",
              "      <td>0.13</td>\n",
              "      <td>0.12</td>\n",
              "      <td>0.00</td>\n",
              "      <td>0.02</td>\n",
              "      <td>&lt;NA&gt;</td>\n",
              "      <td>&lt;NA&gt;</td>\n",
              "      <td>NaN</td>\n",
              "    </tr>\n",
              "    <tr>\n",
              "      <th>6410</th>\n",
              "      <td>Need for Speed: Most Wanted</td>\n",
              "      <td>DS</td>\n",
              "      <td>2005.0</td>\n",
              "      <td>Racing</td>\n",
              "      <td>0.24</td>\n",
              "      <td>0.01</td>\n",
              "      <td>0.00</td>\n",
              "      <td>0.02</td>\n",
              "      <td>45</td>\n",
              "      <td>61</td>\n",
              "      <td>E</td>\n",
              "    </tr>\n",
              "    <tr>\n",
              "      <th>6473</th>\n",
              "      <td>Need for Speed: Most Wanted</td>\n",
              "      <td>GBA</td>\n",
              "      <td>2005.0</td>\n",
              "      <td>Racing</td>\n",
              "      <td>0.19</td>\n",
              "      <td>0.07</td>\n",
              "      <td>0.00</td>\n",
              "      <td>0.00</td>\n",
              "      <td>&lt;NA&gt;</td>\n",
              "      <td>83</td>\n",
              "      <td>E</td>\n",
              "    </tr>\n",
              "    <tr>\n",
              "      <th>11715</th>\n",
              "      <td>Need for Speed: Most Wanted</td>\n",
              "      <td>PC</td>\n",
              "      <td>2012.0</td>\n",
              "      <td>Racing</td>\n",
              "      <td>0.00</td>\n",
              "      <td>0.06</td>\n",
              "      <td>0.00</td>\n",
              "      <td>0.02</td>\n",
              "      <td>82</td>\n",
              "      <td>85</td>\n",
              "      <td>T</td>\n",
              "    </tr>\n",
              "  </tbody>\n",
              "</table>\n",
              "</div>"
            ],
            "text/plain": [
              "                              name platform  ...  user_score rating\n",
              "253    Need for Speed: Most Wanted      PS2  ...          91      T\n",
              "523    Need for Speed: Most Wanted      PS3  ...        <NA>    NaN\n",
              "1190   Need for Speed: Most Wanted     X360  ...          85      T\n",
              "1591   Need for Speed: Most Wanted     X360  ...          85      T\n",
              "1998   Need for Speed: Most Wanted       XB  ...          88      T\n",
              "2048   Need for Speed: Most Wanted      PSV  ...        <NA>    NaN\n",
              "3581   Need for Speed: Most Wanted       GC  ...          91      T\n",
              "5972   Need for Speed: Most Wanted       PC  ...          85      T\n",
              "6273   Need for Speed: Most Wanted     WiiU  ...        <NA>    NaN\n",
              "6410   Need for Speed: Most Wanted       DS  ...          61      E\n",
              "6473   Need for Speed: Most Wanted      GBA  ...          83      E\n",
              "11715  Need for Speed: Most Wanted       PC  ...          85      T\n",
              "\n",
              "[12 rows x 11 columns]"
            ]
          },
          "metadata": {
            "tags": []
          },
          "execution_count": 16
        }
      ]
    },
    {
      "cell_type": "markdown",
      "metadata": {
        "id": "dkFuQhFV0Prb"
      },
      "source": [
        "Yes there is. I will check this games later. Now I will move to check null values."
      ]
    },
    {
      "cell_type": "markdown",
      "metadata": {
        "id": "YlghoRXfu5Ot"
      },
      "source": [
        "## Handle missing values"
      ]
    },
    {
      "cell_type": "code",
      "metadata": {
        "colab": {
          "base_uri": "https://localhost:8080/"
        },
        "id": "pNBwVqjQMjOG",
        "outputId": "ce12126b-c83d-4ead-ee62-0e3998e78f2f"
      },
      "source": [
        "games.isnull().sum()"
      ],
      "execution_count": 17,
      "outputs": [
        {
          "output_type": "execute_result",
          "data": {
            "text/plain": [
              "name                  2\n",
              "platform              0\n",
              "year_of_release     269\n",
              "genre                 2\n",
              "na_sales              0\n",
              "eu_sales              0\n",
              "jp_sales              0\n",
              "other_sales           0\n",
              "critic_score       8578\n",
              "user_score         9125\n",
              "rating             6766\n",
              "dtype: int64"
            ]
          },
          "metadata": {
            "tags": []
          },
          "execution_count": 17
        }
      ]
    },
    {
      "cell_type": "markdown",
      "metadata": {
        "id": "f3V-YIpD0bNZ"
      },
      "source": [
        "As we can see, there is null values in 5 columns. First thing to note is that There is 2 null values in name column. Let us check these rows."
      ]
    },
    {
      "cell_type": "code",
      "metadata": {
        "colab": {
          "base_uri": "https://localhost:8080/",
          "height": 112
        },
        "id": "ys32ITS30axA",
        "outputId": "7fcbb053-4e11-4cf6-8822-7c3da437e808"
      },
      "source": [
        "games[games['name'].isnull()]"
      ],
      "execution_count": 18,
      "outputs": [
        {
          "output_type": "execute_result",
          "data": {
            "text/html": [
              "<div>\n",
              "<style scoped>\n",
              "    .dataframe tbody tr th:only-of-type {\n",
              "        vertical-align: middle;\n",
              "    }\n",
              "\n",
              "    .dataframe tbody tr th {\n",
              "        vertical-align: top;\n",
              "    }\n",
              "\n",
              "    .dataframe thead th {\n",
              "        text-align: right;\n",
              "    }\n",
              "</style>\n",
              "<table border=\"1\" class=\"dataframe\">\n",
              "  <thead>\n",
              "    <tr style=\"text-align: right;\">\n",
              "      <th></th>\n",
              "      <th>name</th>\n",
              "      <th>platform</th>\n",
              "      <th>year_of_release</th>\n",
              "      <th>genre</th>\n",
              "      <th>na_sales</th>\n",
              "      <th>eu_sales</th>\n",
              "      <th>jp_sales</th>\n",
              "      <th>other_sales</th>\n",
              "      <th>critic_score</th>\n",
              "      <th>user_score</th>\n",
              "      <th>rating</th>\n",
              "    </tr>\n",
              "  </thead>\n",
              "  <tbody>\n",
              "    <tr>\n",
              "      <th>659</th>\n",
              "      <td>NaN</td>\n",
              "      <td>GEN</td>\n",
              "      <td>1993.0</td>\n",
              "      <td>NaN</td>\n",
              "      <td>1.78</td>\n",
              "      <td>0.53</td>\n",
              "      <td>0.00</td>\n",
              "      <td>0.08</td>\n",
              "      <td>&lt;NA&gt;</td>\n",
              "      <td>&lt;NA&gt;</td>\n",
              "      <td>NaN</td>\n",
              "    </tr>\n",
              "    <tr>\n",
              "      <th>14244</th>\n",
              "      <td>NaN</td>\n",
              "      <td>GEN</td>\n",
              "      <td>1993.0</td>\n",
              "      <td>NaN</td>\n",
              "      <td>0.00</td>\n",
              "      <td>0.00</td>\n",
              "      <td>0.03</td>\n",
              "      <td>0.00</td>\n",
              "      <td>&lt;NA&gt;</td>\n",
              "      <td>&lt;NA&gt;</td>\n",
              "      <td>NaN</td>\n",
              "    </tr>\n",
              "  </tbody>\n",
              "</table>\n",
              "</div>"
            ],
            "text/plain": [
              "      name platform  year_of_release  ... critic_score  user_score  rating\n",
              "659    NaN      GEN           1993.0  ...         <NA>        <NA>     NaN\n",
              "14244  NaN      GEN           1993.0  ...         <NA>        <NA>     NaN\n",
              "\n",
              "[2 rows x 11 columns]"
            ]
          },
          "metadata": {
            "tags": []
          },
          "execution_count": 18
        }
      ]
    },
    {
      "cell_type": "markdown",
      "metadata": {
        "id": "3sQvPhJITwDd"
      },
      "source": [
        "In this 2 rows there is no name, no genre and no scores. How these rows enterd the dataset? This rows would not help us in any way, so I will drop them. "
      ]
    },
    {
      "cell_type": "code",
      "metadata": {
        "id": "ZpkmwrAeUaJZ"
      },
      "source": [
        "games = games[games['name'].notna()]"
      ],
      "execution_count": 19,
      "outputs": []
    },
    {
      "cell_type": "code",
      "metadata": {
        "colab": {
          "base_uri": "https://localhost:8080/"
        },
        "id": "g_Nz9OcjUhtX",
        "outputId": "1dcc3498-fe17-4774-b418-4394d28635f2"
      },
      "source": [
        "games.isnull().sum()"
      ],
      "execution_count": 20,
      "outputs": [
        {
          "output_type": "execute_result",
          "data": {
            "text/plain": [
              "name                  0\n",
              "platform              0\n",
              "year_of_release     269\n",
              "genre                 0\n",
              "na_sales              0\n",
              "eu_sales              0\n",
              "jp_sales              0\n",
              "other_sales           0\n",
              "critic_score       8576\n",
              "user_score         9123\n",
              "rating             6764\n",
              "dtype: int64"
            ]
          },
          "metadata": {
            "tags": []
          },
          "execution_count": 20
        }
      ]
    },
    {
      "cell_type": "markdown",
      "metadata": {
        "id": "edcn-is9W5uB"
      },
      "source": [
        "Ok, for now I will go to examine the rest of the cols that contain null values. Its clear what is year and score, but what contained in the rates column?"
      ]
    },
    {
      "cell_type": "code",
      "metadata": {
        "colab": {
          "base_uri": "https://localhost:8080/"
        },
        "id": "8A6r6V3KWcjO",
        "outputId": "1963a3c1-1cc3-4257-e04f-3e5f63879251"
      },
      "source": [
        "games['rating'].value_counts()"
      ],
      "execution_count": 21,
      "outputs": [
        {
          "output_type": "execute_result",
          "data": {
            "text/plain": [
              "E       3990\n",
              "T       2961\n",
              "M       1563\n",
              "E10+    1420\n",
              "EC         8\n",
              "K-A        3\n",
              "RP         3\n",
              "AO         1\n",
              "Name: rating, dtype: int64"
            ]
          },
          "metadata": {
            "tags": []
          },
          "execution_count": 21
        }
      ]
    },
    {
      "cell_type": "markdown",
      "metadata": {
        "id": "USXBOFxpX-aq"
      },
      "source": [
        "well, according to wikipedia, it says the follows:\n",
        "\n",
        "1. EC - Early Childhood\n",
        "2. E – Everyone\n",
        "3. E10+ – Everyone 10 and Older\n",
        "4. T – Teen\n",
        "5. M – Mature\n",
        "6. Ao – Adults only\n",
        "7. RP – Rating Pending\n",
        "8. K-A – Kids to Adults"
      ]
    },
    {
      "cell_type": "markdown",
      "metadata": {
        "id": "fSYBz9DkYFrm"
      },
      "source": [
        "Namely, it catgorize the games by its target group.\n"
      ]
    },
    {
      "cell_type": "markdown",
      "metadata": {
        "id": "YTtpdZ3CYcwd"
      },
      "source": [
        "The question that raise now is how should I fill the missing values in rating and scoring columns. Why these values are missed? In some cases maybe the scoring not given yet, but it could not be the case in all of the games since there is some very old games that have no rate or score. In other cases the user maybe skip the scoring stage, but the critic and ESRB should not skip the scoring or rating. So rating I will fill with 'no_rating'.\n",
        "\n",
        "Since the amount of missing values in user_score and critic_score is around 50 percent I could not fill with the mean or median since it corrupt the data alltogether. In addition, every game have its own properties and qualities, so that I can not fill scoring of one game, based on this of the others. Maybe I can fill by the type of platform? \n",
        "We have to check if there is scoring rates that belongs in average to some platforms and not to the others. \n"
      ]
    },
    {
      "cell_type": "code",
      "metadata": {
        "colab": {
          "base_uri": "https://localhost:8080/",
          "height": 613
        },
        "id": "PAiXx_agjFWz",
        "outputId": "9c0a1920-ecbc-4a5d-c237-46b04f8c1e49"
      },
      "source": [
        "games.pivot_table(index='platform', values='user_score', aggfunc='mean')"
      ],
      "execution_count": 22,
      "outputs": [
        {
          "output_type": "execute_result",
          "data": {
            "text/html": [
              "<div>\n",
              "<style scoped>\n",
              "    .dataframe tbody tr th:only-of-type {\n",
              "        vertical-align: middle;\n",
              "    }\n",
              "\n",
              "    .dataframe tbody tr th {\n",
              "        vertical-align: top;\n",
              "    }\n",
              "\n",
              "    .dataframe thead th {\n",
              "        text-align: right;\n",
              "    }\n",
              "</style>\n",
              "<table border=\"1\" class=\"dataframe\">\n",
              "  <thead>\n",
              "    <tr style=\"text-align: right;\">\n",
              "      <th></th>\n",
              "      <th>user_score</th>\n",
              "    </tr>\n",
              "    <tr>\n",
              "      <th>platform</th>\n",
              "      <th></th>\n",
              "    </tr>\n",
              "  </thead>\n",
              "  <tbody>\n",
              "    <tr>\n",
              "      <th>3DS</th>\n",
              "      <td>68.316092</td>\n",
              "    </tr>\n",
              "    <tr>\n",
              "      <th>DC</th>\n",
              "      <td>85.285714</td>\n",
              "    </tr>\n",
              "    <tr>\n",
              "      <th>DS</th>\n",
              "      <td>70.251938</td>\n",
              "    </tr>\n",
              "    <tr>\n",
              "      <th>GBA</th>\n",
              "      <td>76.768627</td>\n",
              "    </tr>\n",
              "    <tr>\n",
              "      <th>GC</th>\n",
              "      <td>75.975410</td>\n",
              "    </tr>\n",
              "    <tr>\n",
              "      <th>PC</th>\n",
              "      <td>70.624675</td>\n",
              "    </tr>\n",
              "    <tr>\n",
              "      <th>PS</th>\n",
              "      <td>78.654321</td>\n",
              "    </tr>\n",
              "    <tr>\n",
              "      <th>PS2</th>\n",
              "      <td>76.268332</td>\n",
              "    </tr>\n",
              "    <tr>\n",
              "      <th>PS3</th>\n",
              "      <td>67.265678</td>\n",
              "    </tr>\n",
              "    <tr>\n",
              "      <th>PS4</th>\n",
              "      <td>67.482490</td>\n",
              "    </tr>\n",
              "    <tr>\n",
              "      <th>PSP</th>\n",
              "      <td>72.282660</td>\n",
              "    </tr>\n",
              "    <tr>\n",
              "      <th>PSV</th>\n",
              "      <td>73.363636</td>\n",
              "    </tr>\n",
              "    <tr>\n",
              "      <th>Wii</th>\n",
              "      <td>67.426786</td>\n",
              "    </tr>\n",
              "    <tr>\n",
              "      <th>WiiU</th>\n",
              "      <td>69.040000</td>\n",
              "    </tr>\n",
              "    <tr>\n",
              "      <th>X360</th>\n",
              "      <td>66.835404</td>\n",
              "    </tr>\n",
              "    <tr>\n",
              "      <th>XB</th>\n",
              "      <td>75.005119</td>\n",
              "    </tr>\n",
              "    <tr>\n",
              "      <th>XOne</th>\n",
              "      <td>65.214286</td>\n",
              "    </tr>\n",
              "  </tbody>\n",
              "</table>\n",
              "</div>"
            ],
            "text/plain": [
              "          user_score\n",
              "platform            \n",
              "3DS        68.316092\n",
              "DC         85.285714\n",
              "DS         70.251938\n",
              "GBA        76.768627\n",
              "GC         75.975410\n",
              "PC         70.624675\n",
              "PS         78.654321\n",
              "PS2        76.268332\n",
              "PS3        67.265678\n",
              "PS4        67.482490\n",
              "PSP        72.282660\n",
              "PSV        73.363636\n",
              "Wii        67.426786\n",
              "WiiU       69.040000\n",
              "X360       66.835404\n",
              "XB         75.005119\n",
              "XOne       65.214286"
            ]
          },
          "metadata": {
            "tags": []
          },
          "execution_count": 22
        }
      ]
    },
    {
      "cell_type": "code",
      "metadata": {
        "colab": {
          "base_uri": "https://localhost:8080/"
        },
        "id": "4VZmr6KIbNPz",
        "outputId": "0c47e8d7-6230-480a-c2a1-cbfe9b42f582"
      },
      "source": [
        "games['rating'] = games['rating'].fillna('no_rating')\n",
        "games['rating'].isnull().sum()"
      ],
      "execution_count": 23,
      "outputs": [
        {
          "output_type": "execute_result",
          "data": {
            "text/plain": [
              "0"
            ]
          },
          "metadata": {
            "tags": []
          },
          "execution_count": 23
        }
      ]
    },
    {
      "cell_type": "markdown",
      "metadata": {
        "id": "oicFPBV1pSNG"
      },
      "source": [
        "In regard with scorings, Its not seem reasonable to fill based on platform since there is no some range of scoring that belong to one kind of platforms and not to the others. I will leave in this 2 columns the null values in place."
      ]
    },
    {
      "cell_type": "markdown",
      "metadata": {
        "id": "d8Y6bgttcGIU"
      },
      "source": [
        "Well, what in regard with year? first I will create new table with all of the nulls"
      ]
    },
    {
      "cell_type": "code",
      "metadata": {
        "colab": {
          "base_uri": "https://localhost:8080/",
          "height": 382
        },
        "id": "-U1deidniRCw",
        "outputId": "7386c773-830f-4e64-b19b-619cf5d1952a"
      },
      "source": [
        "year_is_null = games[games['year_of_release'].isnull()]\n",
        "year_is_null.head()"
      ],
      "execution_count": 24,
      "outputs": [
        {
          "output_type": "execute_result",
          "data": {
            "text/html": [
              "<div>\n",
              "<style scoped>\n",
              "    .dataframe tbody tr th:only-of-type {\n",
              "        vertical-align: middle;\n",
              "    }\n",
              "\n",
              "    .dataframe tbody tr th {\n",
              "        vertical-align: top;\n",
              "    }\n",
              "\n",
              "    .dataframe thead th {\n",
              "        text-align: right;\n",
              "    }\n",
              "</style>\n",
              "<table border=\"1\" class=\"dataframe\">\n",
              "  <thead>\n",
              "    <tr style=\"text-align: right;\">\n",
              "      <th></th>\n",
              "      <th>name</th>\n",
              "      <th>platform</th>\n",
              "      <th>year_of_release</th>\n",
              "      <th>genre</th>\n",
              "      <th>na_sales</th>\n",
              "      <th>eu_sales</th>\n",
              "      <th>jp_sales</th>\n",
              "      <th>other_sales</th>\n",
              "      <th>critic_score</th>\n",
              "      <th>user_score</th>\n",
              "      <th>rating</th>\n",
              "    </tr>\n",
              "  </thead>\n",
              "  <tbody>\n",
              "    <tr>\n",
              "      <th>183</th>\n",
              "      <td>Madden NFL 2004</td>\n",
              "      <td>PS2</td>\n",
              "      <td>NaN</td>\n",
              "      <td>Sports</td>\n",
              "      <td>4.26</td>\n",
              "      <td>0.26</td>\n",
              "      <td>0.01</td>\n",
              "      <td>0.71</td>\n",
              "      <td>94</td>\n",
              "      <td>85</td>\n",
              "      <td>E</td>\n",
              "    </tr>\n",
              "    <tr>\n",
              "      <th>377</th>\n",
              "      <td>FIFA Soccer 2004</td>\n",
              "      <td>PS2</td>\n",
              "      <td>NaN</td>\n",
              "      <td>Sports</td>\n",
              "      <td>0.59</td>\n",
              "      <td>2.36</td>\n",
              "      <td>0.04</td>\n",
              "      <td>0.51</td>\n",
              "      <td>84</td>\n",
              "      <td>64</td>\n",
              "      <td>E</td>\n",
              "    </tr>\n",
              "    <tr>\n",
              "      <th>456</th>\n",
              "      <td>LEGO Batman: The Videogame</td>\n",
              "      <td>Wii</td>\n",
              "      <td>NaN</td>\n",
              "      <td>Action</td>\n",
              "      <td>1.80</td>\n",
              "      <td>0.97</td>\n",
              "      <td>0.00</td>\n",
              "      <td>0.29</td>\n",
              "      <td>74</td>\n",
              "      <td>79</td>\n",
              "      <td>E10+</td>\n",
              "    </tr>\n",
              "    <tr>\n",
              "      <th>475</th>\n",
              "      <td>wwe Smackdown vs. Raw 2006</td>\n",
              "      <td>PS2</td>\n",
              "      <td>NaN</td>\n",
              "      <td>Fighting</td>\n",
              "      <td>1.57</td>\n",
              "      <td>1.02</td>\n",
              "      <td>0.00</td>\n",
              "      <td>0.41</td>\n",
              "      <td>&lt;NA&gt;</td>\n",
              "      <td>&lt;NA&gt;</td>\n",
              "      <td>no_rating</td>\n",
              "    </tr>\n",
              "    <tr>\n",
              "      <th>609</th>\n",
              "      <td>Space Invaders</td>\n",
              "      <td>2600</td>\n",
              "      <td>NaN</td>\n",
              "      <td>Shooter</td>\n",
              "      <td>2.36</td>\n",
              "      <td>0.14</td>\n",
              "      <td>0.00</td>\n",
              "      <td>0.03</td>\n",
              "      <td>&lt;NA&gt;</td>\n",
              "      <td>&lt;NA&gt;</td>\n",
              "      <td>no_rating</td>\n",
              "    </tr>\n",
              "  </tbody>\n",
              "</table>\n",
              "</div>"
            ],
            "text/plain": [
              "                           name platform  ...  user_score     rating\n",
              "183             Madden NFL 2004      PS2  ...          85          E\n",
              "377            FIFA Soccer 2004      PS2  ...          64          E\n",
              "456  LEGO Batman: The Videogame      Wii  ...          79       E10+\n",
              "475  wwe Smackdown vs. Raw 2006      PS2  ...        <NA>  no_rating\n",
              "609              Space Invaders     2600  ...        <NA>  no_rating\n",
              "\n",
              "[5 rows x 11 columns]"
            ]
          },
          "metadata": {
            "tags": []
          },
          "execution_count": 24
        }
      ]
    },
    {
      "cell_type": "markdown",
      "metadata": {
        "id": "pds_jah3i_8R"
      },
      "source": [
        "Ehm... In some cases the year included in the name of the game!! So actually we can take the year from there."
      ]
    },
    {
      "cell_type": "code",
      "metadata": {
        "colab": {
          "base_uri": "https://localhost:8080/"
        },
        "id": "H5KNsTYOjREp",
        "outputId": "8fd5638a-356f-4a95-a174-894cebf829a8"
      },
      "source": [
        "# Split the name into tokens.\n",
        "\n",
        "import nltk\n",
        "nltk.download('punkt')\n",
        "\n",
        "# function to split row into its components\n",
        "\n",
        "def to_words(row):\n",
        "    words = nltk.word_tokenize(row)\n",
        "    return words"
      ],
      "execution_count": 25,
      "outputs": [
        {
          "output_type": "stream",
          "text": [
            "[nltk_data] Downloading package punkt to /root/nltk_data...\n",
            "[nltk_data]   Package punkt is already up-to-date!\n"
          ],
          "name": "stdout"
        }
      ]
    },
    {
      "cell_type": "code",
      "metadata": {
        "colab": {
          "base_uri": "https://localhost:8080/"
        },
        "id": "TxE7OIefi_l7",
        "outputId": "43f9502e-994c-4d54-eb9b-dbdd1dbff0c0"
      },
      "source": [
        "year_is_null['name_words'] = year_is_null['name'].apply(to_words)"
      ],
      "execution_count": 26,
      "outputs": [
        {
          "output_type": "stream",
          "text": [
            "/usr/local/lib/python3.7/dist-packages/ipykernel_launcher.py:1: SettingWithCopyWarning: \n",
            "A value is trying to be set on a copy of a slice from a DataFrame.\n",
            "Try using .loc[row_indexer,col_indexer] = value instead\n",
            "\n",
            "See the caveats in the documentation: https://pandas.pydata.org/pandas-docs/stable/user_guide/indexing.html#returning-a-view-versus-a-copy\n",
            "  \"\"\"Entry point for launching an IPython kernel.\n"
          ],
          "name": "stderr"
        }
      ]
    },
    {
      "cell_type": "code",
      "metadata": {
        "colab": {
          "base_uri": "https://localhost:8080/",
          "height": 399
        },
        "id": "6TgM0bNGqTfV",
        "outputId": "e32041d0-d245-4e5d-ba00-89baab7d151d"
      },
      "source": [
        "year_is_null = year_is_null.reset_index()\n",
        "year_is_null.head()"
      ],
      "execution_count": 27,
      "outputs": [
        {
          "output_type": "execute_result",
          "data": {
            "text/html": [
              "<div>\n",
              "<style scoped>\n",
              "    .dataframe tbody tr th:only-of-type {\n",
              "        vertical-align: middle;\n",
              "    }\n",
              "\n",
              "    .dataframe tbody tr th {\n",
              "        vertical-align: top;\n",
              "    }\n",
              "\n",
              "    .dataframe thead th {\n",
              "        text-align: right;\n",
              "    }\n",
              "</style>\n",
              "<table border=\"1\" class=\"dataframe\">\n",
              "  <thead>\n",
              "    <tr style=\"text-align: right;\">\n",
              "      <th></th>\n",
              "      <th>index</th>\n",
              "      <th>name</th>\n",
              "      <th>platform</th>\n",
              "      <th>year_of_release</th>\n",
              "      <th>genre</th>\n",
              "      <th>na_sales</th>\n",
              "      <th>eu_sales</th>\n",
              "      <th>jp_sales</th>\n",
              "      <th>other_sales</th>\n",
              "      <th>critic_score</th>\n",
              "      <th>user_score</th>\n",
              "      <th>rating</th>\n",
              "      <th>name_words</th>\n",
              "    </tr>\n",
              "  </thead>\n",
              "  <tbody>\n",
              "    <tr>\n",
              "      <th>0</th>\n",
              "      <td>183</td>\n",
              "      <td>Madden NFL 2004</td>\n",
              "      <td>PS2</td>\n",
              "      <td>NaN</td>\n",
              "      <td>Sports</td>\n",
              "      <td>4.26</td>\n",
              "      <td>0.26</td>\n",
              "      <td>0.01</td>\n",
              "      <td>0.71</td>\n",
              "      <td>94</td>\n",
              "      <td>85</td>\n",
              "      <td>E</td>\n",
              "      <td>[Madden, NFL, 2004]</td>\n",
              "    </tr>\n",
              "    <tr>\n",
              "      <th>1</th>\n",
              "      <td>377</td>\n",
              "      <td>FIFA Soccer 2004</td>\n",
              "      <td>PS2</td>\n",
              "      <td>NaN</td>\n",
              "      <td>Sports</td>\n",
              "      <td>0.59</td>\n",
              "      <td>2.36</td>\n",
              "      <td>0.04</td>\n",
              "      <td>0.51</td>\n",
              "      <td>84</td>\n",
              "      <td>64</td>\n",
              "      <td>E</td>\n",
              "      <td>[FIFA, Soccer, 2004]</td>\n",
              "    </tr>\n",
              "    <tr>\n",
              "      <th>2</th>\n",
              "      <td>456</td>\n",
              "      <td>LEGO Batman: The Videogame</td>\n",
              "      <td>Wii</td>\n",
              "      <td>NaN</td>\n",
              "      <td>Action</td>\n",
              "      <td>1.80</td>\n",
              "      <td>0.97</td>\n",
              "      <td>0.00</td>\n",
              "      <td>0.29</td>\n",
              "      <td>74</td>\n",
              "      <td>79</td>\n",
              "      <td>E10+</td>\n",
              "      <td>[LEGO, Batman, :, The, Videogame]</td>\n",
              "    </tr>\n",
              "    <tr>\n",
              "      <th>3</th>\n",
              "      <td>475</td>\n",
              "      <td>wwe Smackdown vs. Raw 2006</td>\n",
              "      <td>PS2</td>\n",
              "      <td>NaN</td>\n",
              "      <td>Fighting</td>\n",
              "      <td>1.57</td>\n",
              "      <td>1.02</td>\n",
              "      <td>0.00</td>\n",
              "      <td>0.41</td>\n",
              "      <td>&lt;NA&gt;</td>\n",
              "      <td>&lt;NA&gt;</td>\n",
              "      <td>no_rating</td>\n",
              "      <td>[wwe, Smackdown, vs, ., Raw, 2006]</td>\n",
              "    </tr>\n",
              "    <tr>\n",
              "      <th>4</th>\n",
              "      <td>609</td>\n",
              "      <td>Space Invaders</td>\n",
              "      <td>2600</td>\n",
              "      <td>NaN</td>\n",
              "      <td>Shooter</td>\n",
              "      <td>2.36</td>\n",
              "      <td>0.14</td>\n",
              "      <td>0.00</td>\n",
              "      <td>0.03</td>\n",
              "      <td>&lt;NA&gt;</td>\n",
              "      <td>&lt;NA&gt;</td>\n",
              "      <td>no_rating</td>\n",
              "      <td>[Space, Invaders]</td>\n",
              "    </tr>\n",
              "  </tbody>\n",
              "</table>\n",
              "</div>"
            ],
            "text/plain": [
              "   index  ...                          name_words\n",
              "0    183  ...                 [Madden, NFL, 2004]\n",
              "1    377  ...                [FIFA, Soccer, 2004]\n",
              "2    456  ...   [LEGO, Batman, :, The, Videogame]\n",
              "3    475  ...  [wwe, Smackdown, vs, ., Raw, 2006]\n",
              "4    609  ...                   [Space, Invaders]\n",
              "\n",
              "[5 rows x 13 columns]"
            ]
          },
          "metadata": {
            "tags": []
          },
          "execution_count": 27
        }
      ]
    },
    {
      "cell_type": "code",
      "metadata": {
        "id": "f2Uv_5Dso-Zh"
      },
      "source": [
        "# this code checks if name_words column contain a year and if so it insert the year to the 'year_of_release' column\n",
        "for i in range(len(year_is_null)):\n",
        "    \n",
        "    for year in range(1970,2017):\n",
        "    \n",
        "      if str(year) in year_is_null.loc[i, 'name_words']:\n",
        "      \n",
        "        year_is_null.loc[i, 'year_of_release'] = year\n"
      ],
      "execution_count": 28,
      "outputs": []
    },
    {
      "cell_type": "code",
      "metadata": {
        "colab": {
          "base_uri": "https://localhost:8080/",
          "height": 399
        },
        "id": "KSyR254PnrMe",
        "outputId": "b4102dab-8372-4196-f46a-8a6d9b526c1b"
      },
      "source": [
        "year_is_null.head()"
      ],
      "execution_count": 29,
      "outputs": [
        {
          "output_type": "execute_result",
          "data": {
            "text/html": [
              "<div>\n",
              "<style scoped>\n",
              "    .dataframe tbody tr th:only-of-type {\n",
              "        vertical-align: middle;\n",
              "    }\n",
              "\n",
              "    .dataframe tbody tr th {\n",
              "        vertical-align: top;\n",
              "    }\n",
              "\n",
              "    .dataframe thead th {\n",
              "        text-align: right;\n",
              "    }\n",
              "</style>\n",
              "<table border=\"1\" class=\"dataframe\">\n",
              "  <thead>\n",
              "    <tr style=\"text-align: right;\">\n",
              "      <th></th>\n",
              "      <th>index</th>\n",
              "      <th>name</th>\n",
              "      <th>platform</th>\n",
              "      <th>year_of_release</th>\n",
              "      <th>genre</th>\n",
              "      <th>na_sales</th>\n",
              "      <th>eu_sales</th>\n",
              "      <th>jp_sales</th>\n",
              "      <th>other_sales</th>\n",
              "      <th>critic_score</th>\n",
              "      <th>user_score</th>\n",
              "      <th>rating</th>\n",
              "      <th>name_words</th>\n",
              "    </tr>\n",
              "  </thead>\n",
              "  <tbody>\n",
              "    <tr>\n",
              "      <th>0</th>\n",
              "      <td>183</td>\n",
              "      <td>Madden NFL 2004</td>\n",
              "      <td>PS2</td>\n",
              "      <td>2004.0</td>\n",
              "      <td>Sports</td>\n",
              "      <td>4.26</td>\n",
              "      <td>0.26</td>\n",
              "      <td>0.01</td>\n",
              "      <td>0.71</td>\n",
              "      <td>94</td>\n",
              "      <td>85</td>\n",
              "      <td>E</td>\n",
              "      <td>[Madden, NFL, 2004]</td>\n",
              "    </tr>\n",
              "    <tr>\n",
              "      <th>1</th>\n",
              "      <td>377</td>\n",
              "      <td>FIFA Soccer 2004</td>\n",
              "      <td>PS2</td>\n",
              "      <td>2004.0</td>\n",
              "      <td>Sports</td>\n",
              "      <td>0.59</td>\n",
              "      <td>2.36</td>\n",
              "      <td>0.04</td>\n",
              "      <td>0.51</td>\n",
              "      <td>84</td>\n",
              "      <td>64</td>\n",
              "      <td>E</td>\n",
              "      <td>[FIFA, Soccer, 2004]</td>\n",
              "    </tr>\n",
              "    <tr>\n",
              "      <th>2</th>\n",
              "      <td>456</td>\n",
              "      <td>LEGO Batman: The Videogame</td>\n",
              "      <td>Wii</td>\n",
              "      <td>NaN</td>\n",
              "      <td>Action</td>\n",
              "      <td>1.80</td>\n",
              "      <td>0.97</td>\n",
              "      <td>0.00</td>\n",
              "      <td>0.29</td>\n",
              "      <td>74</td>\n",
              "      <td>79</td>\n",
              "      <td>E10+</td>\n",
              "      <td>[LEGO, Batman, :, The, Videogame]</td>\n",
              "    </tr>\n",
              "    <tr>\n",
              "      <th>3</th>\n",
              "      <td>475</td>\n",
              "      <td>wwe Smackdown vs. Raw 2006</td>\n",
              "      <td>PS2</td>\n",
              "      <td>2006.0</td>\n",
              "      <td>Fighting</td>\n",
              "      <td>1.57</td>\n",
              "      <td>1.02</td>\n",
              "      <td>0.00</td>\n",
              "      <td>0.41</td>\n",
              "      <td>&lt;NA&gt;</td>\n",
              "      <td>&lt;NA&gt;</td>\n",
              "      <td>no_rating</td>\n",
              "      <td>[wwe, Smackdown, vs, ., Raw, 2006]</td>\n",
              "    </tr>\n",
              "    <tr>\n",
              "      <th>4</th>\n",
              "      <td>609</td>\n",
              "      <td>Space Invaders</td>\n",
              "      <td>2600</td>\n",
              "      <td>NaN</td>\n",
              "      <td>Shooter</td>\n",
              "      <td>2.36</td>\n",
              "      <td>0.14</td>\n",
              "      <td>0.00</td>\n",
              "      <td>0.03</td>\n",
              "      <td>&lt;NA&gt;</td>\n",
              "      <td>&lt;NA&gt;</td>\n",
              "      <td>no_rating</td>\n",
              "      <td>[Space, Invaders]</td>\n",
              "    </tr>\n",
              "  </tbody>\n",
              "</table>\n",
              "</div>"
            ],
            "text/plain": [
              "   index  ...                          name_words\n",
              "0    183  ...                 [Madden, NFL, 2004]\n",
              "1    377  ...                [FIFA, Soccer, 2004]\n",
              "2    456  ...   [LEGO, Batman, :, The, Videogame]\n",
              "3    475  ...  [wwe, Smackdown, vs, ., Raw, 2006]\n",
              "4    609  ...                   [Space, Invaders]\n",
              "\n",
              "[5 rows x 13 columns]"
            ]
          },
          "metadata": {
            "tags": []
          },
          "execution_count": 29
        }
      ]
    },
    {
      "cell_type": "code",
      "metadata": {
        "colab": {
          "base_uri": "https://localhost:8080/"
        },
        "id": "TqL1cB3PtJt_",
        "outputId": "894b465e-6f74-474e-a827-ec0a78d35e10"
      },
      "source": [
        "year_is_null['year_of_release'].isnull().sum()"
      ],
      "execution_count": 30,
      "outputs": [
        {
          "output_type": "execute_result",
          "data": {
            "text/plain": [
              "252"
            ]
          },
          "metadata": {
            "tags": []
          },
          "execution_count": 30
        }
      ]
    },
    {
      "cell_type": "markdown",
      "metadata": {
        "id": "J42OtVvbdKyI"
      },
      "source": [
        "So this process helps to fill only 17 values. How should the rest be filled? one option is to use the platform feature to determine the year of release. This notion based on the assumption that each platform being in used in different range of years. We can check this assumption."
      ]
    },
    {
      "cell_type": "code",
      "metadata": {
        "colab": {
          "base_uri": "https://localhost:8080/",
          "height": 237
        },
        "id": "XOP_uTgD_ZkY",
        "outputId": "41d39fd4-0982-4aba-f7f9-b32d27e70af3"
      },
      "source": [
        "platform_year_mean = games.pivot_table(index=['platform'], values='year_of_release', aggfunc='mean').head(30)\n",
        "platform_year_mean.head()"
      ],
      "execution_count": 31,
      "outputs": [
        {
          "output_type": "execute_result",
          "data": {
            "text/html": [
              "<div>\n",
              "<style scoped>\n",
              "    .dataframe tbody tr th:only-of-type {\n",
              "        vertical-align: middle;\n",
              "    }\n",
              "\n",
              "    .dataframe tbody tr th {\n",
              "        vertical-align: top;\n",
              "    }\n",
              "\n",
              "    .dataframe thead th {\n",
              "        text-align: right;\n",
              "    }\n",
              "</style>\n",
              "<table border=\"1\" class=\"dataframe\">\n",
              "  <thead>\n",
              "    <tr style=\"text-align: right;\">\n",
              "      <th></th>\n",
              "      <th>year_of_release</th>\n",
              "    </tr>\n",
              "    <tr>\n",
              "      <th>platform</th>\n",
              "      <th></th>\n",
              "    </tr>\n",
              "  </thead>\n",
              "  <tbody>\n",
              "    <tr>\n",
              "      <th>2600</th>\n",
              "      <td>1982.137931</td>\n",
              "    </tr>\n",
              "    <tr>\n",
              "      <th>3DO</th>\n",
              "      <td>1994.666667</td>\n",
              "    </tr>\n",
              "    <tr>\n",
              "      <th>3DS</th>\n",
              "      <td>2013.126953</td>\n",
              "    </tr>\n",
              "    <tr>\n",
              "      <th>DC</th>\n",
              "      <td>1999.942308</td>\n",
              "    </tr>\n",
              "    <tr>\n",
              "      <th>DS</th>\n",
              "      <td>2008.185290</td>\n",
              "    </tr>\n",
              "  </tbody>\n",
              "</table>\n",
              "</div>"
            ],
            "text/plain": [
              "          year_of_release\n",
              "platform                 \n",
              "2600          1982.137931\n",
              "3DO           1994.666667\n",
              "3DS           2013.126953\n",
              "DC            1999.942308\n",
              "DS            2008.185290"
            ]
          },
          "metadata": {
            "tags": []
          },
          "execution_count": 31
        }
      ]
    },
    {
      "cell_type": "code",
      "metadata": {
        "colab": {
          "base_uri": "https://localhost:8080/",
          "height": 233
        },
        "id": "NVDrrHPbd8Rh",
        "outputId": "49dfe48c-7959-4f04-8b58-2ac9e4bbe5d8"
      },
      "source": [
        "games[games['platform'] == '3DO']"
      ],
      "execution_count": 32,
      "outputs": [
        {
          "output_type": "execute_result",
          "data": {
            "text/html": [
              "<div>\n",
              "<style scoped>\n",
              "    .dataframe tbody tr th:only-of-type {\n",
              "        vertical-align: middle;\n",
              "    }\n",
              "\n",
              "    .dataframe tbody tr th {\n",
              "        vertical-align: top;\n",
              "    }\n",
              "\n",
              "    .dataframe thead th {\n",
              "        text-align: right;\n",
              "    }\n",
              "</style>\n",
              "<table border=\"1\" class=\"dataframe\">\n",
              "  <thead>\n",
              "    <tr style=\"text-align: right;\">\n",
              "      <th></th>\n",
              "      <th>name</th>\n",
              "      <th>platform</th>\n",
              "      <th>year_of_release</th>\n",
              "      <th>genre</th>\n",
              "      <th>na_sales</th>\n",
              "      <th>eu_sales</th>\n",
              "      <th>jp_sales</th>\n",
              "      <th>other_sales</th>\n",
              "      <th>critic_score</th>\n",
              "      <th>user_score</th>\n",
              "      <th>rating</th>\n",
              "    </tr>\n",
              "  </thead>\n",
              "  <tbody>\n",
              "    <tr>\n",
              "      <th>12663</th>\n",
              "      <td>Policenauts</td>\n",
              "      <td>3DO</td>\n",
              "      <td>1995.0</td>\n",
              "      <td>Adventure</td>\n",
              "      <td>0.0</td>\n",
              "      <td>0.0</td>\n",
              "      <td>0.06</td>\n",
              "      <td>0.0</td>\n",
              "      <td>&lt;NA&gt;</td>\n",
              "      <td>&lt;NA&gt;</td>\n",
              "      <td>no_rating</td>\n",
              "    </tr>\n",
              "    <tr>\n",
              "      <th>15076</th>\n",
              "      <td>Bust-A-Move</td>\n",
              "      <td>3DO</td>\n",
              "      <td>1994.0</td>\n",
              "      <td>Puzzle</td>\n",
              "      <td>0.0</td>\n",
              "      <td>0.0</td>\n",
              "      <td>0.02</td>\n",
              "      <td>0.0</td>\n",
              "      <td>&lt;NA&gt;</td>\n",
              "      <td>&lt;NA&gt;</td>\n",
              "      <td>no_rating</td>\n",
              "    </tr>\n",
              "    <tr>\n",
              "      <th>15560</th>\n",
              "      <td>Sotsugyou II: Neo Generation Special</td>\n",
              "      <td>3DO</td>\n",
              "      <td>1995.0</td>\n",
              "      <td>Simulation</td>\n",
              "      <td>0.0</td>\n",
              "      <td>0.0</td>\n",
              "      <td>0.02</td>\n",
              "      <td>0.0</td>\n",
              "      <td>&lt;NA&gt;</td>\n",
              "      <td>&lt;NA&gt;</td>\n",
              "      <td>no_rating</td>\n",
              "    </tr>\n",
              "  </tbody>\n",
              "</table>\n",
              "</div>"
            ],
            "text/plain": [
              "                                       name platform  ...  user_score     rating\n",
              "12663                           Policenauts      3DO  ...        <NA>  no_rating\n",
              "15076                           Bust-A-Move      3DO  ...        <NA>  no_rating\n",
              "15560  Sotsugyou II: Neo Generation Special      3DO  ...        <NA>  no_rating\n",
              "\n",
              "[3 rows x 11 columns]"
            ]
          },
          "metadata": {
            "tags": []
          },
          "execution_count": 32
        }
      ]
    },
    {
      "cell_type": "markdown",
      "metadata": {
        "id": "d0Whv6f8fzWd"
      },
      "source": [
        "Yes, the assumption seems right. The 3D0 platform was used in the years 1994-5. So we can fill the missing years by type of platform "
      ]
    },
    {
      "cell_type": "code",
      "metadata": {
        "id": "iLwkl4rq3xHF"
      },
      "source": [
        "for i in range(len(year_is_null)):\n",
        "    platform = year_is_null.loc[i, \"platform\"]\n",
        "    if(np.isnan(year_is_null.loc[i, \"year_of_release\"])):\n",
        "        year_is_null.loc[i, \"year_of_release\"] = platform_year_mean['year_of_release'][platform]"
      ],
      "execution_count": 33,
      "outputs": []
    },
    {
      "cell_type": "code",
      "metadata": {
        "colab": {
          "base_uri": "https://localhost:8080/",
          "height": 399
        },
        "id": "7cx9v3bn404Y",
        "outputId": "c4ddfcef-d14d-4b1a-8e62-eecb5c8ba729"
      },
      "source": [
        "year_is_null.head()"
      ],
      "execution_count": 34,
      "outputs": [
        {
          "output_type": "execute_result",
          "data": {
            "text/html": [
              "<div>\n",
              "<style scoped>\n",
              "    .dataframe tbody tr th:only-of-type {\n",
              "        vertical-align: middle;\n",
              "    }\n",
              "\n",
              "    .dataframe tbody tr th {\n",
              "        vertical-align: top;\n",
              "    }\n",
              "\n",
              "    .dataframe thead th {\n",
              "        text-align: right;\n",
              "    }\n",
              "</style>\n",
              "<table border=\"1\" class=\"dataframe\">\n",
              "  <thead>\n",
              "    <tr style=\"text-align: right;\">\n",
              "      <th></th>\n",
              "      <th>index</th>\n",
              "      <th>name</th>\n",
              "      <th>platform</th>\n",
              "      <th>year_of_release</th>\n",
              "      <th>genre</th>\n",
              "      <th>na_sales</th>\n",
              "      <th>eu_sales</th>\n",
              "      <th>jp_sales</th>\n",
              "      <th>other_sales</th>\n",
              "      <th>critic_score</th>\n",
              "      <th>user_score</th>\n",
              "      <th>rating</th>\n",
              "      <th>name_words</th>\n",
              "    </tr>\n",
              "  </thead>\n",
              "  <tbody>\n",
              "    <tr>\n",
              "      <th>0</th>\n",
              "      <td>183</td>\n",
              "      <td>Madden NFL 2004</td>\n",
              "      <td>PS2</td>\n",
              "      <td>2004.000000</td>\n",
              "      <td>Sports</td>\n",
              "      <td>4.26</td>\n",
              "      <td>0.26</td>\n",
              "      <td>0.01</td>\n",
              "      <td>0.71</td>\n",
              "      <td>94</td>\n",
              "      <td>85</td>\n",
              "      <td>E</td>\n",
              "      <td>[Madden, NFL, 2004]</td>\n",
              "    </tr>\n",
              "    <tr>\n",
              "      <th>1</th>\n",
              "      <td>377</td>\n",
              "      <td>FIFA Soccer 2004</td>\n",
              "      <td>PS2</td>\n",
              "      <td>2004.000000</td>\n",
              "      <td>Sports</td>\n",
              "      <td>0.59</td>\n",
              "      <td>2.36</td>\n",
              "      <td>0.04</td>\n",
              "      <td>0.51</td>\n",
              "      <td>84</td>\n",
              "      <td>64</td>\n",
              "      <td>E</td>\n",
              "      <td>[FIFA, Soccer, 2004]</td>\n",
              "    </tr>\n",
              "    <tr>\n",
              "      <th>2</th>\n",
              "      <td>456</td>\n",
              "      <td>LEGO Batman: The Videogame</td>\n",
              "      <td>Wii</td>\n",
              "      <td>2008.966563</td>\n",
              "      <td>Action</td>\n",
              "      <td>1.80</td>\n",
              "      <td>0.97</td>\n",
              "      <td>0.00</td>\n",
              "      <td>0.29</td>\n",
              "      <td>74</td>\n",
              "      <td>79</td>\n",
              "      <td>E10+</td>\n",
              "      <td>[LEGO, Batman, :, The, Videogame]</td>\n",
              "    </tr>\n",
              "    <tr>\n",
              "      <th>3</th>\n",
              "      <td>475</td>\n",
              "      <td>wwe Smackdown vs. Raw 2006</td>\n",
              "      <td>PS2</td>\n",
              "      <td>2006.000000</td>\n",
              "      <td>Fighting</td>\n",
              "      <td>1.57</td>\n",
              "      <td>1.02</td>\n",
              "      <td>0.00</td>\n",
              "      <td>0.41</td>\n",
              "      <td>&lt;NA&gt;</td>\n",
              "      <td>&lt;NA&gt;</td>\n",
              "      <td>no_rating</td>\n",
              "      <td>[wwe, Smackdown, vs, ., Raw, 2006]</td>\n",
              "    </tr>\n",
              "    <tr>\n",
              "      <th>4</th>\n",
              "      <td>609</td>\n",
              "      <td>Space Invaders</td>\n",
              "      <td>2600</td>\n",
              "      <td>1982.137931</td>\n",
              "      <td>Shooter</td>\n",
              "      <td>2.36</td>\n",
              "      <td>0.14</td>\n",
              "      <td>0.00</td>\n",
              "      <td>0.03</td>\n",
              "      <td>&lt;NA&gt;</td>\n",
              "      <td>&lt;NA&gt;</td>\n",
              "      <td>no_rating</td>\n",
              "      <td>[Space, Invaders]</td>\n",
              "    </tr>\n",
              "  </tbody>\n",
              "</table>\n",
              "</div>"
            ],
            "text/plain": [
              "   index  ...                          name_words\n",
              "0    183  ...                 [Madden, NFL, 2004]\n",
              "1    377  ...                [FIFA, Soccer, 2004]\n",
              "2    456  ...   [LEGO, Batman, :, The, Videogame]\n",
              "3    475  ...  [wwe, Smackdown, vs, ., Raw, 2006]\n",
              "4    609  ...                   [Space, Invaders]\n",
              "\n",
              "[5 rows x 13 columns]"
            ]
          },
          "metadata": {
            "tags": []
          },
          "execution_count": 34
        }
      ]
    },
    {
      "cell_type": "code",
      "metadata": {
        "id": "I3-jfHxZbnMy"
      },
      "source": [
        "year_is_null = year_is_null.set_index('index')"
      ],
      "execution_count": 35,
      "outputs": []
    },
    {
      "cell_type": "code",
      "metadata": {
        "id": "8AZqd5iCbuNu"
      },
      "source": [
        "games['year_of_release'] = games['year_of_release'].fillna(year_is_null['year_of_release'])"
      ],
      "execution_count": 36,
      "outputs": []
    },
    {
      "cell_type": "code",
      "metadata": {
        "colab": {
          "base_uri": "https://localhost:8080/"
        },
        "id": "0-HRH8hYbwl1",
        "outputId": "f827eec7-3cdd-454b-881c-4b2d38e6ee8d"
      },
      "source": [
        "games['year_of_release'].isnull().sum()"
      ],
      "execution_count": 37,
      "outputs": [
        {
          "output_type": "execute_result",
          "data": {
            "text/plain": [
              "0"
            ]
          },
          "metadata": {
            "tags": []
          },
          "execution_count": 37
        }
      ]
    },
    {
      "cell_type": "code",
      "metadata": {
        "colab": {
          "base_uri": "https://localhost:8080/",
          "height": 295
        },
        "id": "XJRN-g_GegP6",
        "outputId": "1beaf41e-6516-4805-8929-457fbb73bb72"
      },
      "source": [
        "games.head()"
      ],
      "execution_count": 38,
      "outputs": [
        {
          "output_type": "execute_result",
          "data": {
            "text/html": [
              "<div>\n",
              "<style scoped>\n",
              "    .dataframe tbody tr th:only-of-type {\n",
              "        vertical-align: middle;\n",
              "    }\n",
              "\n",
              "    .dataframe tbody tr th {\n",
              "        vertical-align: top;\n",
              "    }\n",
              "\n",
              "    .dataframe thead th {\n",
              "        text-align: right;\n",
              "    }\n",
              "</style>\n",
              "<table border=\"1\" class=\"dataframe\">\n",
              "  <thead>\n",
              "    <tr style=\"text-align: right;\">\n",
              "      <th></th>\n",
              "      <th>name</th>\n",
              "      <th>platform</th>\n",
              "      <th>year_of_release</th>\n",
              "      <th>genre</th>\n",
              "      <th>na_sales</th>\n",
              "      <th>eu_sales</th>\n",
              "      <th>jp_sales</th>\n",
              "      <th>other_sales</th>\n",
              "      <th>critic_score</th>\n",
              "      <th>user_score</th>\n",
              "      <th>rating</th>\n",
              "    </tr>\n",
              "  </thead>\n",
              "  <tbody>\n",
              "    <tr>\n",
              "      <th>0</th>\n",
              "      <td>Wii Sports</td>\n",
              "      <td>Wii</td>\n",
              "      <td>2006.0</td>\n",
              "      <td>Sports</td>\n",
              "      <td>41.36</td>\n",
              "      <td>28.96</td>\n",
              "      <td>3.77</td>\n",
              "      <td>8.45</td>\n",
              "      <td>76</td>\n",
              "      <td>80</td>\n",
              "      <td>E</td>\n",
              "    </tr>\n",
              "    <tr>\n",
              "      <th>1</th>\n",
              "      <td>Super Mario Bros.</td>\n",
              "      <td>NES</td>\n",
              "      <td>1985.0</td>\n",
              "      <td>Platform</td>\n",
              "      <td>29.08</td>\n",
              "      <td>3.58</td>\n",
              "      <td>6.81</td>\n",
              "      <td>0.77</td>\n",
              "      <td>&lt;NA&gt;</td>\n",
              "      <td>&lt;NA&gt;</td>\n",
              "      <td>no_rating</td>\n",
              "    </tr>\n",
              "    <tr>\n",
              "      <th>2</th>\n",
              "      <td>Mario Kart Wii</td>\n",
              "      <td>Wii</td>\n",
              "      <td>2008.0</td>\n",
              "      <td>Racing</td>\n",
              "      <td>15.68</td>\n",
              "      <td>12.76</td>\n",
              "      <td>3.79</td>\n",
              "      <td>3.29</td>\n",
              "      <td>82</td>\n",
              "      <td>83</td>\n",
              "      <td>E</td>\n",
              "    </tr>\n",
              "    <tr>\n",
              "      <th>3</th>\n",
              "      <td>Wii Sports Resort</td>\n",
              "      <td>Wii</td>\n",
              "      <td>2009.0</td>\n",
              "      <td>Sports</td>\n",
              "      <td>15.61</td>\n",
              "      <td>10.93</td>\n",
              "      <td>3.28</td>\n",
              "      <td>2.95</td>\n",
              "      <td>80</td>\n",
              "      <td>80</td>\n",
              "      <td>E</td>\n",
              "    </tr>\n",
              "    <tr>\n",
              "      <th>4</th>\n",
              "      <td>Pokemon Red/Pokemon Blue</td>\n",
              "      <td>GB</td>\n",
              "      <td>1996.0</td>\n",
              "      <td>Role-Playing</td>\n",
              "      <td>11.27</td>\n",
              "      <td>8.89</td>\n",
              "      <td>10.22</td>\n",
              "      <td>1.00</td>\n",
              "      <td>&lt;NA&gt;</td>\n",
              "      <td>&lt;NA&gt;</td>\n",
              "      <td>no_rating</td>\n",
              "    </tr>\n",
              "  </tbody>\n",
              "</table>\n",
              "</div>"
            ],
            "text/plain": [
              "                       name platform  ...  user_score     rating\n",
              "0                Wii Sports      Wii  ...          80          E\n",
              "1         Super Mario Bros.      NES  ...        <NA>  no_rating\n",
              "2            Mario Kart Wii      Wii  ...          83          E\n",
              "3         Wii Sports Resort      Wii  ...          80          E\n",
              "4  Pokemon Red/Pokemon Blue       GB  ...        <NA>  no_rating\n",
              "\n",
              "[5 rows x 11 columns]"
            ]
          },
          "metadata": {
            "tags": []
          },
          "execution_count": 38
        }
      ]
    },
    {
      "cell_type": "markdown",
      "metadata": {
        "id": "Srg6cJGIcXUe"
      },
      "source": [
        "And now I can convert the dtype of year_of_release to int"
      ]
    },
    {
      "cell_type": "code",
      "metadata": {
        "id": "yi5sE6lCep-Q"
      },
      "source": [
        "games['year_of_release'] = games['year_of_release'].apply(int)"
      ],
      "execution_count": 39,
      "outputs": []
    },
    {
      "cell_type": "code",
      "metadata": {
        "colab": {
          "base_uri": "https://localhost:8080/",
          "height": 295
        },
        "id": "dUC5w8OWe_z8",
        "outputId": "fd01235c-44f1-4196-80c2-510cb7153523"
      },
      "source": [
        "games.head()"
      ],
      "execution_count": 40,
      "outputs": [
        {
          "output_type": "execute_result",
          "data": {
            "text/html": [
              "<div>\n",
              "<style scoped>\n",
              "    .dataframe tbody tr th:only-of-type {\n",
              "        vertical-align: middle;\n",
              "    }\n",
              "\n",
              "    .dataframe tbody tr th {\n",
              "        vertical-align: top;\n",
              "    }\n",
              "\n",
              "    .dataframe thead th {\n",
              "        text-align: right;\n",
              "    }\n",
              "</style>\n",
              "<table border=\"1\" class=\"dataframe\">\n",
              "  <thead>\n",
              "    <tr style=\"text-align: right;\">\n",
              "      <th></th>\n",
              "      <th>name</th>\n",
              "      <th>platform</th>\n",
              "      <th>year_of_release</th>\n",
              "      <th>genre</th>\n",
              "      <th>na_sales</th>\n",
              "      <th>eu_sales</th>\n",
              "      <th>jp_sales</th>\n",
              "      <th>other_sales</th>\n",
              "      <th>critic_score</th>\n",
              "      <th>user_score</th>\n",
              "      <th>rating</th>\n",
              "    </tr>\n",
              "  </thead>\n",
              "  <tbody>\n",
              "    <tr>\n",
              "      <th>0</th>\n",
              "      <td>Wii Sports</td>\n",
              "      <td>Wii</td>\n",
              "      <td>2006</td>\n",
              "      <td>Sports</td>\n",
              "      <td>41.36</td>\n",
              "      <td>28.96</td>\n",
              "      <td>3.77</td>\n",
              "      <td>8.45</td>\n",
              "      <td>76</td>\n",
              "      <td>80</td>\n",
              "      <td>E</td>\n",
              "    </tr>\n",
              "    <tr>\n",
              "      <th>1</th>\n",
              "      <td>Super Mario Bros.</td>\n",
              "      <td>NES</td>\n",
              "      <td>1985</td>\n",
              "      <td>Platform</td>\n",
              "      <td>29.08</td>\n",
              "      <td>3.58</td>\n",
              "      <td>6.81</td>\n",
              "      <td>0.77</td>\n",
              "      <td>&lt;NA&gt;</td>\n",
              "      <td>&lt;NA&gt;</td>\n",
              "      <td>no_rating</td>\n",
              "    </tr>\n",
              "    <tr>\n",
              "      <th>2</th>\n",
              "      <td>Mario Kart Wii</td>\n",
              "      <td>Wii</td>\n",
              "      <td>2008</td>\n",
              "      <td>Racing</td>\n",
              "      <td>15.68</td>\n",
              "      <td>12.76</td>\n",
              "      <td>3.79</td>\n",
              "      <td>3.29</td>\n",
              "      <td>82</td>\n",
              "      <td>83</td>\n",
              "      <td>E</td>\n",
              "    </tr>\n",
              "    <tr>\n",
              "      <th>3</th>\n",
              "      <td>Wii Sports Resort</td>\n",
              "      <td>Wii</td>\n",
              "      <td>2009</td>\n",
              "      <td>Sports</td>\n",
              "      <td>15.61</td>\n",
              "      <td>10.93</td>\n",
              "      <td>3.28</td>\n",
              "      <td>2.95</td>\n",
              "      <td>80</td>\n",
              "      <td>80</td>\n",
              "      <td>E</td>\n",
              "    </tr>\n",
              "    <tr>\n",
              "      <th>4</th>\n",
              "      <td>Pokemon Red/Pokemon Blue</td>\n",
              "      <td>GB</td>\n",
              "      <td>1996</td>\n",
              "      <td>Role-Playing</td>\n",
              "      <td>11.27</td>\n",
              "      <td>8.89</td>\n",
              "      <td>10.22</td>\n",
              "      <td>1.00</td>\n",
              "      <td>&lt;NA&gt;</td>\n",
              "      <td>&lt;NA&gt;</td>\n",
              "      <td>no_rating</td>\n",
              "    </tr>\n",
              "  </tbody>\n",
              "</table>\n",
              "</div>"
            ],
            "text/plain": [
              "                       name platform  ...  user_score     rating\n",
              "0                Wii Sports      Wii  ...          80          E\n",
              "1         Super Mario Bros.      NES  ...        <NA>  no_rating\n",
              "2            Mario Kart Wii      Wii  ...          83          E\n",
              "3         Wii Sports Resort      Wii  ...          80          E\n",
              "4  Pokemon Red/Pokemon Blue       GB  ...        <NA>  no_rating\n",
              "\n",
              "[5 rows x 11 columns]"
            ]
          },
          "metadata": {
            "tags": []
          },
          "execution_count": 40
        }
      ]
    },
    {
      "cell_type": "code",
      "metadata": {
        "colab": {
          "base_uri": "https://localhost:8080/"
        },
        "id": "Rl6x6s1Xch3e",
        "outputId": "c27fcde9-662e-4f2c-cb0c-84cddf26a7a3"
      },
      "source": [
        "games['year_of_release'].dtype"
      ],
      "execution_count": 41,
      "outputs": [
        {
          "output_type": "execute_result",
          "data": {
            "text/plain": [
              "dtype('int64')"
            ]
          },
          "metadata": {
            "tags": []
          },
          "execution_count": 41
        }
      ]
    },
    {
      "cell_type": "code",
      "metadata": {
        "colab": {
          "base_uri": "https://localhost:8080/"
        },
        "id": "b60OkZD66nJw",
        "outputId": "3fd8fb81-b807-41d3-83b6-09e8f85ec91a"
      },
      "source": [
        "games.isnull().sum()"
      ],
      "execution_count": 42,
      "outputs": [
        {
          "output_type": "execute_result",
          "data": {
            "text/plain": [
              "name                  0\n",
              "platform              0\n",
              "year_of_release       0\n",
              "genre                 0\n",
              "na_sales              0\n",
              "eu_sales              0\n",
              "jp_sales              0\n",
              "other_sales           0\n",
              "critic_score       8576\n",
              "user_score         9123\n",
              "rating                0\n",
              "dtype: int64"
            ]
          },
          "metadata": {
            "tags": []
          },
          "execution_count": 42
        }
      ]
    },
    {
      "cell_type": "markdown",
      "metadata": {
        "id": "4Bhhe0ObvO5c"
      },
      "source": [
        "## Calculate total_sales"
      ]
    },
    {
      "cell_type": "markdown",
      "metadata": {
        "id": "ZInHuic2rOEA"
      },
      "source": [
        "Another thing to do is to calculate the total revenues from all of the regions."
      ]
    },
    {
      "cell_type": "code",
      "metadata": {
        "id": "ykX_glERra-G"
      },
      "source": [
        "games['total_sales'] = games['na_sales'] + games['eu_sales'] + games['jp_sales'] + games['other_sales']"
      ],
      "execution_count": 43,
      "outputs": []
    },
    {
      "cell_type": "code",
      "metadata": {
        "colab": {
          "base_uri": "https://localhost:8080/",
          "height": 295
        },
        "id": "uY87NLBPrz9T",
        "outputId": "92e35fc9-9d1b-4a76-bd84-9cc55664d2f2"
      },
      "source": [
        "games.head()"
      ],
      "execution_count": 44,
      "outputs": [
        {
          "output_type": "execute_result",
          "data": {
            "text/html": [
              "<div>\n",
              "<style scoped>\n",
              "    .dataframe tbody tr th:only-of-type {\n",
              "        vertical-align: middle;\n",
              "    }\n",
              "\n",
              "    .dataframe tbody tr th {\n",
              "        vertical-align: top;\n",
              "    }\n",
              "\n",
              "    .dataframe thead th {\n",
              "        text-align: right;\n",
              "    }\n",
              "</style>\n",
              "<table border=\"1\" class=\"dataframe\">\n",
              "  <thead>\n",
              "    <tr style=\"text-align: right;\">\n",
              "      <th></th>\n",
              "      <th>name</th>\n",
              "      <th>platform</th>\n",
              "      <th>year_of_release</th>\n",
              "      <th>genre</th>\n",
              "      <th>na_sales</th>\n",
              "      <th>eu_sales</th>\n",
              "      <th>jp_sales</th>\n",
              "      <th>other_sales</th>\n",
              "      <th>critic_score</th>\n",
              "      <th>user_score</th>\n",
              "      <th>rating</th>\n",
              "      <th>total_sales</th>\n",
              "    </tr>\n",
              "  </thead>\n",
              "  <tbody>\n",
              "    <tr>\n",
              "      <th>0</th>\n",
              "      <td>Wii Sports</td>\n",
              "      <td>Wii</td>\n",
              "      <td>2006</td>\n",
              "      <td>Sports</td>\n",
              "      <td>41.36</td>\n",
              "      <td>28.96</td>\n",
              "      <td>3.77</td>\n",
              "      <td>8.45</td>\n",
              "      <td>76</td>\n",
              "      <td>80</td>\n",
              "      <td>E</td>\n",
              "      <td>82.54</td>\n",
              "    </tr>\n",
              "    <tr>\n",
              "      <th>1</th>\n",
              "      <td>Super Mario Bros.</td>\n",
              "      <td>NES</td>\n",
              "      <td>1985</td>\n",
              "      <td>Platform</td>\n",
              "      <td>29.08</td>\n",
              "      <td>3.58</td>\n",
              "      <td>6.81</td>\n",
              "      <td>0.77</td>\n",
              "      <td>&lt;NA&gt;</td>\n",
              "      <td>&lt;NA&gt;</td>\n",
              "      <td>no_rating</td>\n",
              "      <td>40.24</td>\n",
              "    </tr>\n",
              "    <tr>\n",
              "      <th>2</th>\n",
              "      <td>Mario Kart Wii</td>\n",
              "      <td>Wii</td>\n",
              "      <td>2008</td>\n",
              "      <td>Racing</td>\n",
              "      <td>15.68</td>\n",
              "      <td>12.76</td>\n",
              "      <td>3.79</td>\n",
              "      <td>3.29</td>\n",
              "      <td>82</td>\n",
              "      <td>83</td>\n",
              "      <td>E</td>\n",
              "      <td>35.52</td>\n",
              "    </tr>\n",
              "    <tr>\n",
              "      <th>3</th>\n",
              "      <td>Wii Sports Resort</td>\n",
              "      <td>Wii</td>\n",
              "      <td>2009</td>\n",
              "      <td>Sports</td>\n",
              "      <td>15.61</td>\n",
              "      <td>10.93</td>\n",
              "      <td>3.28</td>\n",
              "      <td>2.95</td>\n",
              "      <td>80</td>\n",
              "      <td>80</td>\n",
              "      <td>E</td>\n",
              "      <td>32.77</td>\n",
              "    </tr>\n",
              "    <tr>\n",
              "      <th>4</th>\n",
              "      <td>Pokemon Red/Pokemon Blue</td>\n",
              "      <td>GB</td>\n",
              "      <td>1996</td>\n",
              "      <td>Role-Playing</td>\n",
              "      <td>11.27</td>\n",
              "      <td>8.89</td>\n",
              "      <td>10.22</td>\n",
              "      <td>1.00</td>\n",
              "      <td>&lt;NA&gt;</td>\n",
              "      <td>&lt;NA&gt;</td>\n",
              "      <td>no_rating</td>\n",
              "      <td>31.38</td>\n",
              "    </tr>\n",
              "  </tbody>\n",
              "</table>\n",
              "</div>"
            ],
            "text/plain": [
              "                       name platform  ...     rating total_sales\n",
              "0                Wii Sports      Wii  ...          E       82.54\n",
              "1         Super Mario Bros.      NES  ...  no_rating       40.24\n",
              "2            Mario Kart Wii      Wii  ...          E       35.52\n",
              "3         Wii Sports Resort      Wii  ...          E       32.77\n",
              "4  Pokemon Red/Pokemon Blue       GB  ...  no_rating       31.38\n",
              "\n",
              "[5 rows x 12 columns]"
            ]
          },
          "metadata": {
            "tags": []
          },
          "execution_count": 44
        }
      ]
    },
    {
      "cell_type": "markdown",
      "metadata": {
        "id": "IqMZDdjCr9OT"
      },
      "source": [
        "Thats it with preprocessing. Now is data analyzing turn!"
      ]
    },
    {
      "cell_type": "markdown",
      "metadata": {
        "id": "3tO7024Zjg5N"
      },
      "source": [
        "# Analyzing the Data"
      ]
    },
    {
      "cell_type": "markdown",
      "metadata": {
        "id": "wfd_NZbep-jL"
      },
      "source": [
        "First thing to check is how many games released in each year in the dataset"
      ]
    },
    {
      "cell_type": "code",
      "metadata": {
        "id": "cW3CEGA2HRWv"
      },
      "source": [
        "sns.set_theme(style=\"darkgrid\")"
      ],
      "execution_count": 45,
      "outputs": []
    },
    {
      "cell_type": "code",
      "metadata": {
        "colab": {
          "base_uri": "https://localhost:8080/",
          "height": 421
        },
        "id": "h_MEjVb4t8LS",
        "outputId": "28d89736-afed-4a1d-a18f-ed0a1dc64759"
      },
      "source": [
        "ax = plt.figure(figsize=(8,6))\n",
        "ax = sns.countplot(x=\"year_of_release\", data=games, palette='PuOr')\n",
        "plt.title('Number of Games per Year')\n",
        "plt.setp(ax.get_xticklabels(), rotation=90, fontsize=8.5)\n",
        "plt.show()"
      ],
      "execution_count": 46,
      "outputs": [
        {
          "output_type": "display_data",
          "data": {
            "image/png": "[encoded data removed]",
            "text/plain": [
              "<Figure size 576x432 with 1 Axes>"
            ]
          },
          "metadata": {
            "tags": []
          }
        }
      ]
    },
    {
      "cell_type": "markdown",
      "metadata": {
        "id": "YRQQbASJwpHz"
      },
      "source": [
        "Till 1994 the number of games per year is less than 100, then it decrease till 2008, and decrease till 2016. For sure the data till 1994 is sparse and conclusions from that data should be derived carefully."
      ]
    },
    {
      "cell_type": "markdown",
      "metadata": {
        "id": "4pV32KOkjwiC"
      },
      "source": [
        "Another important measure is total_sales per year"
      ]
    },
    {
      "cell_type": "code",
      "metadata": {
        "colab": {
          "base_uri": "https://localhost:8080/",
          "height": 421
        },
        "id": "Dc8uFZHIj6gE",
        "outputId": "2f316f82-9274-4837-ada0-7e3c41b12157"
      },
      "source": [
        "ax = plt.figure(figsize=(8,6))\n",
        "ax = sns.barplot(x=\"year_of_release\",\n",
        "                 y='total_sales',\n",
        "                 data=games,\n",
        "                 estimator=sum,\n",
        "                 ci=None)\n",
        "plt.title('Sales per Year (In Milions $)')\n",
        "plt.setp(ax.get_xticklabels(), rotation=90, fontsize=8.5)\n",
        "plt.show()"
      ],
      "execution_count": 47,
      "outputs": [
        {
          "output_type": "display_data",
          "data": {
            "image/png": "[encoded data removed]",
            "text/plain": [
              "<Figure size 576x432 with 1 Axes>"
            ]
          },
          "metadata": {
            "tags": []
          }
        }
      ]
    },
    {
      "cell_type": "markdown",
      "metadata": {
        "id": "px4gHnpPkxlB"
      },
      "source": [
        "Is it reasonable that sales from video games in general shrinking after 2007? no. It seems that the data do not realy represent the sales in video games market. It focuses on narrow field of games."
      ]
    },
    {
      "cell_type": "markdown",
      "metadata": {
        "id": "zOVXHqaDLf1E"
      },
      "source": [
        "## Platforms Analysis"
      ]
    },
    {
      "cell_type": "markdown",
      "metadata": {
        "id": "_2cRBWwPxTv3"
      },
      "source": [
        "Another count plot to draw is sales per platform"
      ]
    },
    {
      "cell_type": "code",
      "metadata": {
        "colab": {
          "base_uri": "https://localhost:8080/",
          "height": 422
        },
        "id": "1U4QrtTkxgL-",
        "outputId": "3f87a9a3-4331-4b7d-f19b-65183a743a3e"
      },
      "source": [
        "# determine descending order\n",
        "order = games.groupby('platform')['total_sales'].sum().sort_values(ascending=False).index\n",
        "\n",
        "# Draw bar plot\n",
        "ax = plt.figure(figsize=(8,6))\n",
        "ax = sns.barplot(x=\"platform\",\n",
        "                 y='total_sales',\n",
        "                 data=games,\n",
        "                 estimator=sum,\n",
        "                 order=order,\n",
        "                 ci=None)\n",
        "plt.title('Sales per platform (In Milions $)')\n",
        "plt.setp(ax.get_xticklabels(), rotation=90, fontsize=8.5)\n",
        "plt.show()"
      ],
      "execution_count": 48,
      "outputs": [
        {
          "output_type": "display_data",
          "data": {
            "image/png": "[encoded data removed]",
            "text/plain": [
              "<Figure size 576x432 with 1 Axes>"
            ]
          },
          "metadata": {
            "tags": []
          }
        }
      ]
    },
    {
      "cell_type": "markdown",
      "metadata": {
        "id": "YsMSxMILITBm"
      },
      "source": [
        "As can be seen the platform with the highesr amount of sales is PS2, withe more than 1.2 billion dollars. I will analyze this platform now."
      ]
    },
    {
      "cell_type": "code",
      "metadata": {
        "colab": {
          "base_uri": "https://localhost:8080/"
        },
        "id": "n0dZMGZuIoaa",
        "outputId": "f70eb251-75da-43f0-dd7d-6d87a2c72b80"
      },
      "source": [
        "ps2 = games[games['platform'] == 'PS2']\n",
        "len(ps2)"
      ],
      "execution_count": 49,
      "outputs": [
        {
          "output_type": "execute_result",
          "data": {
            "text/plain": [
              "2161"
            ]
          },
          "metadata": {
            "tags": []
          },
          "execution_count": 49
        }
      ]
    },
    {
      "cell_type": "code",
      "metadata": {
        "colab": {
          "base_uri": "https://localhost:8080/",
          "height": 312
        },
        "id": "_L9o7WhCJKPW",
        "outputId": "c7782e83-d917-48b7-e2b4-8e26ee05e0ce"
      },
      "source": [
        "ax = plt.figure(figsize=(7,4))\n",
        "ax = sns.countplot(x=\"year_of_release\", data=ps2, palette='PiYG')\n",
        "plt.title('Number of Games per Year PS2')\n",
        "plt.setp(ax.get_xticklabels(), rotation=90, fontsize=8.5)\n",
        "plt.show()"
      ],
      "execution_count": 50,
      "outputs": [
        {
          "output_type": "display_data",
          "data": {
            "image/png": "[encoded data removed]",
            "text/plain": [
              "<Figure size 504x288 with 1 Axes>"
            ]
          },
          "metadata": {
            "tags": []
          }
        }
      ]
    },
    {
      "cell_type": "markdown",
      "metadata": {
        "id": "wsM-VWytKavH"
      },
      "source": [
        "First thing to note is that PS2 platform borned in 2000 and died in 2012 - It was not in use before and after this range. The popularity of this platform pick was in 2004 and more general - between 2002 and 2006. what about sales?"
      ]
    },
    {
      "cell_type": "code",
      "metadata": {
        "colab": {
          "base_uri": "https://localhost:8080/",
          "height": 421
        },
        "id": "ko_c5WE3JpSE",
        "outputId": "9157b6fc-b652-4b71-b3a1-52d01ea16583"
      },
      "source": [
        "ax = plt.figure(figsize=(8,6))\n",
        "ax = sns.barplot(x=\"year_of_release\",\n",
        "                 y='total_sales',\n",
        "                 data=ps2,\n",
        "                 estimator=sum,\n",
        "                 ci=None)\n",
        "plt.title('Sales per year PS2 (In Milions $)')\n",
        "plt.setp(ax.get_xticklabels(), rotation=90, fontsize=8.5)\n",
        "plt.show()"
      ],
      "execution_count": 51,
      "outputs": [
        {
          "output_type": "display_data",
          "data": {
            "image/png": "[encoded data removed]",
            "text/plain": [
              "<Figure size 576x432 with 1 Axes>"
            ]
          },
          "metadata": {
            "tags": []
          }
        }
      ]
    },
    {
      "cell_type": "markdown",
      "metadata": {
        "id": "0WpFWAXDLy_9"
      },
      "source": [
        "In regard with sales, the pick was in 2004 and then a steep descent began. Interesting to note: In the years 2005-2006 the same amount of games released as in 2004, *even though* the sales decreased. It seems that games manufacturer do not notice the begining of descent trend and continue to produce games as before. We have to reccomend the product manager to stop producing games if sales begin to decrease after 4-5 years from the lunch of a platform. lets have a look to another platforms"
      ]
    },
    {
      "cell_type": "markdown",
      "metadata": {
        "id": "CmSwSDh2NHHr"
      },
      "source": [
        ""
      ]
    },
    {
      "cell_type": "code",
      "metadata": {
        "colab": {
          "base_uri": "https://localhost:8080/"
        },
        "id": "VOGlYl5SNsNL",
        "outputId": "6953001d-13b5-4f2f-b5d3-3278c9002e8c"
      },
      "source": [
        "wii = games[games['platform'] == 'Wii']\n",
        "len(wii)"
      ],
      "execution_count": 52,
      "outputs": [
        {
          "output_type": "execute_result",
          "data": {
            "text/plain": [
              "1320"
            ]
          },
          "metadata": {
            "tags": []
          },
          "execution_count": 52
        }
      ]
    },
    {
      "cell_type": "code",
      "metadata": {
        "colab": {
          "base_uri": "https://localhost:8080/",
          "height": 312
        },
        "id": "Eg1rZFm0N8l7",
        "outputId": "09d01675-ab1c-4723-f1b6-644b2eed32e4"
      },
      "source": [
        "ax = plt.figure(figsize=(7,4))\n",
        "ax = sns.countplot(x=\"year_of_release\", data=wii, palette='seismic')\n",
        "plt.title('Number of Games per Year Wii')\n",
        "plt.setp(ax.get_xticklabels(), rotation=90, fontsize=8.5)\n",
        "plt.show()"
      ],
      "execution_count": 53,
      "outputs": [
        {
          "output_type": "display_data",
          "data": {
            "image/png": "[encoded data removed]",
            "text/plain": [
              "<Figure size 504x288 with 1 Axes>"
            ]
          },
          "metadata": {
            "tags": []
          }
        }
      ]
    },
    {
      "cell_type": "code",
      "metadata": {
        "colab": {
          "base_uri": "https://localhost:8080/",
          "height": 421
        },
        "id": "IGd0xoIdNhOB",
        "outputId": "64d73e47-ab72-48bf-e58b-64056d7ef282"
      },
      "source": [
        "ax = plt.figure(figsize=(8,6))\n",
        "ax = sns.barplot(x=\"year_of_release\",\n",
        "                 y='total_sales',\n",
        "                 data=wii,\n",
        "                 estimator=sum,\n",
        "                 ci=None)\n",
        "plt.title('Sales per year Wii (In Milions $)')\n",
        "plt.setp(ax.get_xticklabels(), rotation=90, fontsize=8.5)\n",
        "plt.show()"
      ],
      "execution_count": 54,
      "outputs": [
        {
          "output_type": "display_data",
          "data": {
            "image/png": "[encoded data removed]",
            "text/plain": [
              "<Figure size 576x432 with 1 Axes>"
            ]
          },
          "metadata": {
            "tags": []
          }
        }
      ]
    },
    {
      "cell_type": "markdown",
      "metadata": {
        "id": "XGXcO0BeOKt2"
      },
      "source": [
        "Well, same trends we see in Wii platform. Life long is approx 10 years. Pick of sales is 3-4 after platform launching, and then decreasing start. Very important to pass these insights to the managers."
      ]
    },
    {
      "cell_type": "markdown",
      "metadata": {
        "id": "L0-I32uZR_wr"
      },
      "source": [
        "From the previous analysis we can conclude that in order to make a prognosis to the next year, we do not have to look more than 5-6 years ago. To achieve more confindece, lets look at the last 8 years. "
      ]
    },
    {
      "cell_type": "code",
      "metadata": {
        "colab": {
          "base_uri": "https://localhost:8080/"
        },
        "id": "OKvcz26ZYi4T",
        "outputId": "16128648-d7e9-4ad8-cba7-7464718ec78d"
      },
      "source": [
        "platform_lunch_year = games.groupby('platform')['year_of_release'].min()\n",
        "platform_lunch_year[platform_lunch_year > 2007]"
      ],
      "execution_count": 55,
      "outputs": [
        {
          "output_type": "execute_result",
          "data": {
            "text/plain": [
              "platform\n",
              "3DS     2011\n",
              "PS4     2013\n",
              "PSV     2011\n",
              "WiiU    2012\n",
              "XOne    2013\n",
              "Name: year_of_release, dtype: int64"
            ]
          },
          "metadata": {
            "tags": []
          },
          "execution_count": 55
        }
      ]
    },
    {
      "cell_type": "code",
      "metadata": {
        "id": "Vep4FMw5eSNR"
      },
      "source": [
        "games5 = games[games['platform'].isin(['3DS', 'PS4', 'PSV', 'WiiU', 'XOne'])]"
      ],
      "execution_count": 56,
      "outputs": []
    },
    {
      "cell_type": "code",
      "metadata": {
        "colab": {
          "base_uri": "https://localhost:8080/",
          "height": 421
        },
        "id": "4KyHNsdXdoOf",
        "outputId": "546ab5ae-4dda-4f2b-8f07-478cdc6993c1"
      },
      "source": [
        "ax = plt.figure(figsize=(10,6))\n",
        "ax = sns.barplot(x=\"year_of_release\",\n",
        "                 y='total_sales',\n",
        "                 data=games5,\n",
        "                 hue= 'platform',\n",
        "                 estimator=sum,\n",
        "                 ci=None)\n",
        "plt.title('Sales per year 5 Platforms launched after 2010 (In Milions $)')\n",
        "plt.setp(ax.get_xticklabels(), rotation=90, fontsize=8.5)\n",
        "plt.show()"
      ],
      "execution_count": 57,
      "outputs": [
        {
          "output_type": "display_data",
          "data": {
            "image/png": "[encoded data removed]",
            "text/plain": [
              "<Figure size 720x432 with 1 Axes>"
            ]
          },
          "metadata": {
            "tags": []
          }
        }
      ]
    },
    {
      "cell_type": "markdown",
      "metadata": {
        "id": "5xYHdw52o4hr"
      },
      "source": [
        "In the graph above each bin represent another plattform. As we can see, there is no platform that growth toward the year 2017. It is not surprising at all since, as I noted before, the overall sales shrinks from 2007 upward. However the platform with the bigest amount of sales is PS4, maybe the managers have to invest in developing games for this platform even though sales shrinked in the last year. "
      ]
    },
    {
      "cell_type": "markdown",
      "metadata": {
        "id": "daT32p-LrD2Z"
      },
      "source": [
        "But what we can see if we draw a boxplot graphs for each of the platforms, and see the distribution of sales per game? That is what i will try now:"
      ]
    },
    {
      "cell_type": "code",
      "metadata": {
        "colab": {
          "base_uri": "https://localhost:8080/",
          "height": 857
        },
        "id": "AjsAfu-krEYg",
        "outputId": "c8aeb5a1-4e1c-4106-9bd2-db9b789092c8"
      },
      "source": [
        "ax = plt.figure(figsize=(12,14))\n",
        "ax = sns.boxplot(x=\"platform\", y=\"total_sales\", data=games5, palette='magma')\n",
        "plt.title(\"sales of game for each platform\")\n",
        "plt.setp(ax.get_xticklabels(), rotation=90, fontsize=8.5)\n",
        "plt.show()"
      ],
      "execution_count": 58,
      "outputs": [
        {
          "output_type": "display_data",
          "data": {
            "image/png": "[encoded data removed]",
            "text/plain": [
              "<Figure size 864x1008 with 1 Axes>"
            ]
          },
          "metadata": {
            "tags": []
          }
        }
      ]
    },
    {
      "cell_type": "markdown",
      "metadata": {
        "id": "fSBrb_qGvQFX"
      },
      "source": [
        "As we can see there is a significant amount of outliers games in each platform. Which percent of the revenues these outliers produce?"
      ]
    },
    {
      "cell_type": "code",
      "metadata": {
        "colab": {
          "base_uri": "https://localhost:8080/"
        },
        "id": "c0tJvodDsyiW",
        "outputId": "38340126-d71e-42d5-d056-d15566effc64"
      },
      "source": [
        "# Take 2 million dollars as the limit that define outliers\n",
        "\n",
        "print(games5[games5['total_sales'] > 2]['total_sales'].sum() / games5['total_sales'].sum())\n",
        "print(len(games5[games5['total_sales'] > 2])/len(games5))"
      ],
      "execution_count": 59,
      "outputs": [
        {
          "output_type": "stream",
          "text": [
            "0.5142853853946034\n",
            "0.0587557603686636\n"
          ],
          "name": "stdout"
        }
      ]
    },
    {
      "cell_type": "markdown",
      "metadata": {
        "id": "-7M2mN3ovjQC"
      },
      "source": [
        "Wow, while being only 5.8% of the games, these outliers produce more than 50% of the revenues! The meaning of that is that out of 20 games, 1 of them produce half of the revenues, equals to the revenues of all of the other games. \n",
        "\n",
        "What about the averege sales per platform? We can calculate it"
      ]
    },
    {
      "cell_type": "code",
      "metadata": {
        "colab": {
          "base_uri": "https://localhost:8080/"
        },
        "id": "9YFpE76I27lD",
        "outputId": "3ed49453-d925-4c87-e5fe-4ba8f50530bc"
      },
      "source": [
        "games5.groupby('platform')['total_sales'].mean()"
      ],
      "execution_count": 60,
      "outputs": [
        {
          "output_type": "execute_result",
          "data": {
            "text/plain": [
              "platform\n",
              "3DS     0.498077\n",
              "PS4     0.801378\n",
              "PSV     0.125744\n",
              "WiiU    0.559116\n",
              "XOne    0.645020\n",
              "Name: total_sales, dtype: float64"
            ]
          },
          "metadata": {
            "tags": []
          },
          "execution_count": 60
        }
      ]
    },
    {
      "cell_type": "markdown",
      "metadata": {
        "id": "RZOw25E2Btwg"
      },
      "source": [
        "As expected, The average is very low. In my opinion, the conclusion is that managers need to invest in specific games that have potential to make revenues, and not in platforms as a whole."
      ]
    },
    {
      "cell_type": "markdown",
      "metadata": {
        "id": "CMW3dmG7LpnY"
      },
      "source": [
        "## Scoring Analysis"
      ]
    },
    {
      "cell_type": "markdown",
      "metadata": {
        "id": "hys6WjGsLu7h"
      },
      "source": [
        "Another thing that we have to check is the relation between scoring and sales. I will analyze scoring in the most popular platform that still relevant in 2016 - PS4"
      ]
    },
    {
      "cell_type": "code",
      "metadata": {
        "id": "RrB7t3shNVPv"
      },
      "source": [
        "ps4 = games5[games5['platform'] == 'PS4']"
      ],
      "execution_count": 61,
      "outputs": []
    },
    {
      "cell_type": "code",
      "metadata": {
        "colab": {
          "base_uri": "https://localhost:8080/"
        },
        "id": "cKfSEE_8NtwM",
        "outputId": "45300524-5c9d-4cf1-b7b3-d62210dc585a"
      },
      "source": [
        "len(ps4)"
      ],
      "execution_count": 62,
      "outputs": [
        {
          "output_type": "execute_result",
          "data": {
            "text/plain": [
              "392"
            ]
          },
          "metadata": {
            "tags": []
          },
          "execution_count": 62
        }
      ]
    },
    {
      "cell_type": "code",
      "metadata": {
        "colab": {
          "base_uri": "https://localhost:8080/"
        },
        "id": "DxIdgYFJNluG",
        "outputId": "1d7792f6-f5fc-47b6-bcb9-a5cee6dea9f9"
      },
      "source": [
        "ps4.isnull().sum()"
      ],
      "execution_count": 63,
      "outputs": [
        {
          "output_type": "execute_result",
          "data": {
            "text/plain": [
              "name                 0\n",
              "platform             0\n",
              "year_of_release      0\n",
              "genre                0\n",
              "na_sales             0\n",
              "eu_sales             0\n",
              "jp_sales             0\n",
              "other_sales          0\n",
              "critic_score       140\n",
              "user_score         135\n",
              "rating               0\n",
              "total_sales          0\n",
              "dtype: int64"
            ]
          },
          "metadata": {
            "tags": []
          },
          "execution_count": 63
        }
      ]
    },
    {
      "cell_type": "markdown",
      "metadata": {
        "id": "lGqlC9afNz9G"
      },
      "source": [
        "I need to drop the nulls for now since what I want to check is correlation between scoring and sales. Then I will draw the graphs then draw some conclusions."
      ]
    },
    {
      "cell_type": "code",
      "metadata": {
        "id": "1R2Km-59OCWT"
      },
      "source": [
        "ps4 = ps4.dropna(how='any')"
      ],
      "execution_count": 64,
      "outputs": []
    },
    {
      "cell_type": "code",
      "metadata": {
        "id": "1fydGejzNzcH"
      },
      "source": [
        "ps4 = ps4[['name', 'user_score', 'critic_score', 'total_sales']]"
      ],
      "execution_count": 65,
      "outputs": []
    },
    {
      "cell_type": "code",
      "metadata": {
        "colab": {
          "base_uri": "https://localhost:8080/",
          "height": 301
        },
        "id": "hjS593OlPcJt",
        "outputId": "bee13b5e-e05c-46f6-eaaf-c28c803d9583"
      },
      "source": [
        "sns.scatterplot(data=ps4, x=\"user_score\", y=\"total_sales\")\n",
        "plt.title('Relation between user score and sales (in million $)')\n",
        "plt.show()"
      ],
      "execution_count": 66,
      "outputs": [
        {
          "output_type": "display_data",
          "data": {
            "image/png": "[encoded data removed]",
            "text/plain": [
              "<Figure size 432x288 with 1 Axes>"
            ]
          },
          "metadata": {
            "tags": []
          }
        }
      ]
    },
    {
      "cell_type": "code",
      "metadata": {
        "colab": {
          "base_uri": "https://localhost:8080/",
          "height": 301
        },
        "id": "ezdwCq_MQCTX",
        "outputId": "09b65978-3fd6-4e48-9d36-68cb1a691b1c"
      },
      "source": [
        "sns.scatterplot(data=ps4, x=\"critic_score\", y=\"total_sales\")\n",
        "plt.title('Relation between critic score and sales (in million $)')\n",
        "plt.show()"
      ],
      "execution_count": 67,
      "outputs": [
        {
          "output_type": "display_data",
          "data": {
            "image/png": "[encoded data removed]",
            "text/plain": [
              "<Figure size 432x288 with 1 Axes>"
            ]
          },
          "metadata": {
            "tags": []
          }
        }
      ]
    },
    {
      "cell_type": "code",
      "metadata": {
        "colab": {
          "base_uri": "https://localhost:8080/",
          "height": 490
        },
        "id": "w0wQbia_OtNS",
        "outputId": "63eeb14f-94c0-4c27-94f0-067002c6c60d"
      },
      "source": [
        "corr = ps4.corr()\n",
        "plt.figure(figsize=(8,8))\n",
        "sns.heatmap(corr, annot=True, cmap='RdBu')\n",
        "plt.show()"
      ],
      "execution_count": 68,
      "outputs": [
        {
          "output_type": "display_data",
          "data": {
            "image/png": "[encoded data removed]",
            "text/plain": [
              "<Figure size 576x576 with 2 Axes>"
            ]
          },
          "metadata": {
            "tags": []
          }
        }
      ]
    },
    {
      "cell_type": "markdown",
      "metadata": {
        "id": "sCxfRWBJQUN4"
      },
      "source": [
        "Well, so from the graphs and metrix above we get an ambivalent picture. \n",
        "\n",
        "In ragard with user scoring there is no positive correlation between score and sales. But it is true that the game that sold the most, get very high score in user scoring. And, On the other hand, games that get very poor score, pay back almost anything in terms of revenues. \n",
        "\n",
        "In regard with critic score, here we find positive correlation with salas (even if not very strong), and from the scatter plot its clear that only when scoring get higher so do sales.  \n",
        "\n",
        "To conclude, It seems that high scoring is not sufficiant condition to predict success in sales, but it is neccessary condition (in almost all of the cases, and especially in ragard with critic score)"
      ]
    },
    {
      "cell_type": "markdown",
      "metadata": {
        "id": "2FZ_2BislILD"
      },
      "source": [
        "## Games played on some platforms"
      ]
    },
    {
      "cell_type": "markdown",
      "metadata": {
        "id": "tsSDUxpSlOrb"
      },
      "source": [
        "In the beginning we see that there is some games that could be played in more than 1 platform. How do sales change in different platforms for the same game. "
      ]
    },
    {
      "cell_type": "code",
      "metadata": {
        "colab": {
          "base_uri": "https://localhost:8080/"
        },
        "id": "T-NZaQE8IJ-6",
        "outputId": "aa328a09-baee-44bc-c2bc-9e48627c6b1a"
      },
      "source": [
        "games['name'].value_counts()"
      ],
      "execution_count": 69,
      "outputs": [
        {
          "output_type": "execute_result",
          "data": {
            "text/plain": [
              "Need for Speed: Most Wanted    12\n",
              "Ratatouille                     9\n",
              "LEGO Marvel Super Heroes        9\n",
              "FIFA 14                         9\n",
              "Madden NFL 07                   9\n",
              "                               ..\n",
              "Herdy Gerdy                     1\n",
              "Pet Pals: New Leash on Life     1\n",
              "Policenauts                     1\n",
              "Psycho-Pass                     1\n",
              "Monster Trucks                  1\n",
              "Name: name, Length: 11559, dtype: int64"
            ]
          },
          "metadata": {
            "tags": []
          },
          "execution_count": 69
        }
      ]
    },
    {
      "cell_type": "code",
      "metadata": {
        "colab": {
          "base_uri": "https://localhost:8080/"
        },
        "id": "kvW0cEnmIq77",
        "outputId": "0b9117af-028a-48ab-b341-f1bd4866b7c8"
      },
      "source": [
        "# This code extract the top 7 games that in use is several platforms\n",
        "games7 = []\n",
        "\n",
        "for i in games['name'].value_counts().index:\n",
        "  games7.append(i)\n",
        "\n",
        "games7 = games7[0:7]\n",
        "games7"
      ],
      "execution_count": 70,
      "outputs": [
        {
          "output_type": "execute_result",
          "data": {
            "text/plain": [
              "['Need for Speed: Most Wanted',\n",
              " 'Ratatouille',\n",
              " 'LEGO Marvel Super Heroes',\n",
              " 'FIFA 14',\n",
              " 'Madden NFL 07',\n",
              " 'Madden NFL 08',\n",
              " 'Cars']"
            ]
          },
          "metadata": {
            "tags": []
          },
          "execution_count": 70
        }
      ]
    },
    {
      "cell_type": "code",
      "metadata": {
        "id": "UOvfvJWJCyPX"
      },
      "source": [
        "colors = [\"#ffa500\", \"#8c510a\", \"#ffc0cb\", \"#80cdc1\", \"#35978f\", \"#ff00ff\", \"#00ff00\", \n",
        "          \"#ffff00\", \"#add8e6\", \"#00ffff\", \"#800000\", \"#ff0000\"]"
      ],
      "execution_count": 71,
      "outputs": []
    },
    {
      "cell_type": "code",
      "metadata": {
        "colab": {
          "base_uri": "https://localhost:8080/",
          "height": 1000
        },
        "id": "mvzFTHTnCtgd",
        "outputId": "b41aa4fe-d5bc-4627-b50a-22a76ee3adee"
      },
      "source": [
        "# loop through games7 and colors and print graphs of sales for each of the games\n",
        "\n",
        "for i in range(len(games7)):\n",
        "  df = games.query('name == @games7[@i]')\n",
        "  df.plot(kind='bar',x='platform', y='total_sales', title=games7[i], color=colors[i])\n",
        "  plt.ylabel('Sales (in Million USD)')\n",
        "  print()\n",
        "  print()\n",
        "  plt.show()"
      ],
      "execution_count": 72,
      "outputs": [
        {
          "output_type": "stream",
          "text": [
            "\n",
            "\n"
          ],
          "name": "stdout"
        },
        {
          "output_type": "display_data",
          "data": {
            "image/png": "[encoded data removed]",
            "text/plain": [
              "<Figure size 432x288 with 1 Axes>"
            ]
          },
          "metadata": {
            "tags": []
          }
        },
        {
          "output_type": "stream",
          "text": [
            "\n",
            "\n"
          ],
          "name": "stdout"
        },
        {
          "output_type": "display_data",
          "data": {
            "image/png": "[encoded data removed]",
            "text/plain": [
              "<Figure size 432x288 with 1 Axes>"
            ]
          },
          "metadata": {
            "tags": []
          }
        },
        {
          "output_type": "stream",
          "text": [
            "\n",
            "\n"
          ],
          "name": "stdout"
        },
        {
          "output_type": "display_data",
          "data": {
            "image/png": "[encoded data removed]",
            "text/plain": [
              "<Figure size 432x288 with 1 Axes>"
            ]
          },
          "metadata": {
            "tags": []
          }
        },
        {
          "output_type": "stream",
          "text": [
            "\n",
            "\n"
          ],
          "name": "stdout"
        },
        {
          "output_type": "display_data",
          "data": {
            "image/png": "[encoded data removed]",
            "text/plain": [
              "<Figure size 432x288 with 1 Axes>"
            ]
          },
          "metadata": {
            "tags": []
          }
        },
        {
          "output_type": "stream",
          "text": [
            "\n",
            "\n"
          ],
          "name": "stdout"
        },
        {
          "output_type": "display_data",
          "data": {
            "image/png": "[encoded data removed]",
            "text/plain": [
              "<Figure size 432x288 with 1 Axes>"
            ]
          },
          "metadata": {
            "tags": []
          }
        },
        {
          "output_type": "stream",
          "text": [
            "\n",
            "\n"
          ],
          "name": "stdout"
        },
        {
          "output_type": "display_data",
          "data": {
            "image/png": "[encoded data removed]",
            "text/plain": [
              "<Figure size 432x288 with 1 Axes>"
            ]
          },
          "metadata": {
            "tags": []
          }
        },
        {
          "output_type": "stream",
          "text": [
            "\n",
            "\n"
          ],
          "name": "stdout"
        },
        {
          "output_type": "display_data",
          "data": {
            "image/png": "[encoded data removed]",
            "text/plain": [
              "<Figure size 432x288 with 1 Axes>"
            ]
          },
          "metadata": {
            "tags": []
          }
        }
      ]
    },
    {
      "cell_type": "markdown",
      "metadata": {
        "id": "mcYNi9OWcaRf"
      },
      "source": [
        "What we can learn from those graphs is that the kind of platform IS very significant in determine how money would get in revenues, since we can see that the same game itself make very different results as the platform chaneged."
      ]
    },
    {
      "cell_type": "markdown",
      "metadata": {
        "id": "GL50BPqPjpQj"
      },
      "source": [
        "## Genre"
      ]
    },
    {
      "cell_type": "markdown",
      "metadata": {
        "id": "EByeDTSDg3Z9"
      },
      "source": [
        "Last parameter to check is genre. Is there genres that brings more revenues that others? First I will check the sum."
      ]
    },
    {
      "cell_type": "code",
      "metadata": {
        "colab": {
          "base_uri": "https://localhost:8080/",
          "height": 452
        },
        "id": "abh3aUzng20E",
        "outputId": "3a25b22e-53bb-4c00-a2f6-a5175e02f060"
      },
      "source": [
        "# descending order\n",
        "order = games.groupby('genre')['total_sales'].sum().sort_values(ascending=False).index\n",
        "\n",
        "# Draw bar plot\n",
        "ax = plt.figure(figsize=(8,6))\n",
        "ax = sns.barplot(x=\"genre\",\n",
        "                 y='total_sales',\n",
        "                 data=games,\n",
        "                 estimator=sum,\n",
        "                 order=order,\n",
        "                 ci=None)\n",
        "plt.title('Sales per genre (In Milions $)')\n",
        "plt.setp(ax.get_xticklabels(), rotation=90, fontsize=8.5)\n",
        "plt.show()"
      ],
      "execution_count": 73,
      "outputs": [
        {
          "output_type": "display_data",
          "data": {
            "image/png": "[encoded data removed]",
            "text/plain": [
              "<Figure size 576x432 with 1 Axes>"
            ]
          },
          "metadata": {
            "tags": []
          }
        }
      ]
    },
    {
      "cell_type": "markdown",
      "metadata": {
        "id": "8aef_doOk41m"
      },
      "source": [
        "It seems that Action yields the highest rate of revenues. But we have to check how many games there is in each genre catgory, and then plot graph of the mean of each genre."
      ]
    },
    {
      "cell_type": "code",
      "metadata": {
        "colab": {
          "base_uri": "https://localhost:8080/"
        },
        "id": "U_b6_aBqht-7",
        "outputId": "ac6f0a28-0e2b-440a-bf63-c605a20e3c1a"
      },
      "source": [
        "games['genre'].value_counts()"
      ],
      "execution_count": 74,
      "outputs": [
        {
          "output_type": "execute_result",
          "data": {
            "text/plain": [
              "Action          3369\n",
              "Sports          2348\n",
              "Misc            1750\n",
              "Role-Playing    1498\n",
              "Shooter         1323\n",
              "Adventure       1303\n",
              "Racing          1249\n",
              "Platform         888\n",
              "Simulation       873\n",
              "Fighting         849\n",
              "Strategy         683\n",
              "Puzzle           580\n",
              "Name: genre, dtype: int64"
            ]
          },
          "metadata": {
            "tags": []
          },
          "execution_count": 74
        }
      ]
    },
    {
      "cell_type": "code",
      "metadata": {
        "colab": {
          "base_uri": "https://localhost:8080/",
          "height": 452
        },
        "id": "ENTVVWMoh6z9",
        "outputId": "54ce2ad4-0834-40ae-c4b8-155f514ac512"
      },
      "source": [
        "# descending order of the mean\n",
        "order = games.groupby('genre')['total_sales'].mean().sort_values(ascending=False).index\n",
        "\n",
        "# Draw bar plot\n",
        "ax = plt.figure(figsize=(8,6))\n",
        "ax = sns.barplot(x=\"genre\",\n",
        "                 y='total_sales',\n",
        "                 data=games,\n",
        "                 order=order,\n",
        "                 ci=None)\n",
        "plt.title('Sales per genre (In Milions $)')\n",
        "plt.setp(ax.get_xticklabels(), rotation=90, fontsize=8.5)\n",
        "plt.show()"
      ],
      "execution_count": 75,
      "outputs": [
        {
          "output_type": "display_data",
          "data": {
            "image/png": "[encoded data removed]",
            "text/plain": [
              "<Figure size 576x432 with 1 Axes>"
            ]
          },
          "metadata": {
            "tags": []
          }
        }
      ]
    },
    {
      "cell_type": "markdown",
      "metadata": {
        "id": "W1EYguNHmL3T"
      },
      "source": [
        "Well, so in Action there is the highest amount of games, so in average the revenues from Action games in somwhere in the middle. "
      ]
    },
    {
      "cell_type": "markdown",
      "metadata": {
        "id": "W2a8wW6vlQ9Q"
      },
      "source": [
        "# User profile for each region"
      ]
    },
    {
      "cell_type": "markdown",
      "metadata": {
        "id": "vJ-6g9LLlaXK"
      },
      "source": [
        "Now is time to check sales in different areas. We have 3 different regions: North America, Europe and japan. I will start by creating a pivot table and clculate the sales for each platform and genre in each of the regions."
      ]
    },
    {
      "cell_type": "code",
      "metadata": {
        "id": "r-QHWscRpICo"
      },
      "source": [
        "regions = games.pivot_table(index='platform', \n",
        "                            values = ['na_sales', 'eu_sales', 'jp_sales'],\n",
        "                            aggfunc = 'sum')"
      ],
      "execution_count": 76,
      "outputs": []
    },
    {
      "cell_type": "code",
      "metadata": {
        "colab": {
          "base_uri": "https://localhost:8080/",
          "height": 1000
        },
        "id": "pCLaSb3o17LZ",
        "outputId": "dfc9092a-f75f-422a-be9e-d36c18f18ecc"
      },
      "source": [
        "regions = regions.reset_index()\n",
        "regions"
      ],
      "execution_count": 77,
      "outputs": [
        {
          "output_type": "execute_result",
          "data": {
            "text/html": [
              "<div>\n",
              "<style scoped>\n",
              "    .dataframe tbody tr th:only-of-type {\n",
              "        vertical-align: middle;\n",
              "    }\n",
              "\n",
              "    .dataframe tbody tr th {\n",
              "        vertical-align: top;\n",
              "    }\n",
              "\n",
              "    .dataframe thead th {\n",
              "        text-align: right;\n",
              "    }\n",
              "</style>\n",
              "<table border=\"1\" class=\"dataframe\">\n",
              "  <thead>\n",
              "    <tr style=\"text-align: right;\">\n",
              "      <th></th>\n",
              "      <th>platform</th>\n",
              "      <th>eu_sales</th>\n",
              "      <th>jp_sales</th>\n",
              "      <th>na_sales</th>\n",
              "    </tr>\n",
              "  </thead>\n",
              "  <tbody>\n",
              "    <tr>\n",
              "      <th>0</th>\n",
              "      <td>2600</td>\n",
              "      <td>5.47</td>\n",
              "      <td>0.00</td>\n",
              "      <td>90.60</td>\n",
              "    </tr>\n",
              "    <tr>\n",
              "      <th>1</th>\n",
              "      <td>3DO</td>\n",
              "      <td>0.00</td>\n",
              "      <td>0.10</td>\n",
              "      <td>0.00</td>\n",
              "    </tr>\n",
              "    <tr>\n",
              "      <th>2</th>\n",
              "      <td>3DS</td>\n",
              "      <td>61.48</td>\n",
              "      <td>100.67</td>\n",
              "      <td>83.49</td>\n",
              "    </tr>\n",
              "    <tr>\n",
              "      <th>3</th>\n",
              "      <td>DC</td>\n",
              "      <td>1.69</td>\n",
              "      <td>8.56</td>\n",
              "      <td>5.43</td>\n",
              "    </tr>\n",
              "    <tr>\n",
              "      <th>4</th>\n",
              "      <td>DS</td>\n",
              "      <td>188.89</td>\n",
              "      <td>175.57</td>\n",
              "      <td>382.40</td>\n",
              "    </tr>\n",
              "    <tr>\n",
              "      <th>5</th>\n",
              "      <td>GB</td>\n",
              "      <td>47.82</td>\n",
              "      <td>85.12</td>\n",
              "      <td>114.32</td>\n",
              "    </tr>\n",
              "    <tr>\n",
              "      <th>6</th>\n",
              "      <td>GBA</td>\n",
              "      <td>75.25</td>\n",
              "      <td>47.33</td>\n",
              "      <td>187.54</td>\n",
              "    </tr>\n",
              "    <tr>\n",
              "      <th>7</th>\n",
              "      <td>GC</td>\n",
              "      <td>38.71</td>\n",
              "      <td>21.58</td>\n",
              "      <td>133.46</td>\n",
              "    </tr>\n",
              "    <tr>\n",
              "      <th>8</th>\n",
              "      <td>GEN</td>\n",
              "      <td>5.52</td>\n",
              "      <td>2.67</td>\n",
              "      <td>19.27</td>\n",
              "    </tr>\n",
              "    <tr>\n",
              "      <th>9</th>\n",
              "      <td>GG</td>\n",
              "      <td>0.00</td>\n",
              "      <td>0.04</td>\n",
              "      <td>0.00</td>\n",
              "    </tr>\n",
              "    <tr>\n",
              "      <th>10</th>\n",
              "      <td>N64</td>\n",
              "      <td>41.06</td>\n",
              "      <td>34.22</td>\n",
              "      <td>139.02</td>\n",
              "    </tr>\n",
              "    <tr>\n",
              "      <th>11</th>\n",
              "      <td>NES</td>\n",
              "      <td>21.15</td>\n",
              "      <td>98.65</td>\n",
              "      <td>125.94</td>\n",
              "    </tr>\n",
              "    <tr>\n",
              "      <th>12</th>\n",
              "      <td>NG</td>\n",
              "      <td>0.00</td>\n",
              "      <td>1.44</td>\n",
              "      <td>0.00</td>\n",
              "    </tr>\n",
              "    <tr>\n",
              "      <th>13</th>\n",
              "      <td>PC</td>\n",
              "      <td>142.44</td>\n",
              "      <td>0.17</td>\n",
              "      <td>94.53</td>\n",
              "    </tr>\n",
              "    <tr>\n",
              "      <th>14</th>\n",
              "      <td>PCFX</td>\n",
              "      <td>0.00</td>\n",
              "      <td>0.03</td>\n",
              "      <td>0.00</td>\n",
              "    </tr>\n",
              "    <tr>\n",
              "      <th>15</th>\n",
              "      <td>PS</td>\n",
              "      <td>213.61</td>\n",
              "      <td>139.82</td>\n",
              "      <td>336.52</td>\n",
              "    </tr>\n",
              "    <tr>\n",
              "      <th>16</th>\n",
              "      <td>PS2</td>\n",
              "      <td>339.29</td>\n",
              "      <td>139.20</td>\n",
              "      <td>583.84</td>\n",
              "    </tr>\n",
              "    <tr>\n",
              "      <th>17</th>\n",
              "      <td>PS3</td>\n",
              "      <td>330.29</td>\n",
              "      <td>80.19</td>\n",
              "      <td>393.49</td>\n",
              "    </tr>\n",
              "    <tr>\n",
              "      <th>18</th>\n",
              "      <td>PS4</td>\n",
              "      <td>141.09</td>\n",
              "      <td>15.96</td>\n",
              "      <td>108.74</td>\n",
              "    </tr>\n",
              "    <tr>\n",
              "      <th>19</th>\n",
              "      <td>PSP</td>\n",
              "      <td>66.68</td>\n",
              "      <td>76.78</td>\n",
              "      <td>109.17</td>\n",
              "    </tr>\n",
              "    <tr>\n",
              "      <th>20</th>\n",
              "      <td>PSV</td>\n",
              "      <td>13.12</td>\n",
              "      <td>21.91</td>\n",
              "      <td>12.58</td>\n",
              "    </tr>\n",
              "    <tr>\n",
              "      <th>21</th>\n",
              "      <td>SAT</td>\n",
              "      <td>0.54</td>\n",
              "      <td>32.26</td>\n",
              "      <td>0.72</td>\n",
              "    </tr>\n",
              "    <tr>\n",
              "      <th>22</th>\n",
              "      <td>SCD</td>\n",
              "      <td>0.36</td>\n",
              "      <td>0.45</td>\n",
              "      <td>1.00</td>\n",
              "    </tr>\n",
              "    <tr>\n",
              "      <th>23</th>\n",
              "      <td>SNES</td>\n",
              "      <td>19.04</td>\n",
              "      <td>116.55</td>\n",
              "      <td>61.23</td>\n",
              "    </tr>\n",
              "    <tr>\n",
              "      <th>24</th>\n",
              "      <td>TG16</td>\n",
              "      <td>0.00</td>\n",
              "      <td>0.16</td>\n",
              "      <td>0.00</td>\n",
              "    </tr>\n",
              "    <tr>\n",
              "      <th>25</th>\n",
              "      <td>WS</td>\n",
              "      <td>0.00</td>\n",
              "      <td>1.42</td>\n",
              "      <td>0.00</td>\n",
              "    </tr>\n",
              "    <tr>\n",
              "      <th>26</th>\n",
              "      <td>Wii</td>\n",
              "      <td>262.21</td>\n",
              "      <td>69.33</td>\n",
              "      <td>496.90</td>\n",
              "    </tr>\n",
              "    <tr>\n",
              "      <th>27</th>\n",
              "      <td>WiiU</td>\n",
              "      <td>25.13</td>\n",
              "      <td>13.01</td>\n",
              "      <td>38.10</td>\n",
              "    </tr>\n",
              "    <tr>\n",
              "      <th>28</th>\n",
              "      <td>X360</td>\n",
              "      <td>270.76</td>\n",
              "      <td>12.43</td>\n",
              "      <td>602.47</td>\n",
              "    </tr>\n",
              "    <tr>\n",
              "      <th>29</th>\n",
              "      <td>XB</td>\n",
              "      <td>60.95</td>\n",
              "      <td>1.38</td>\n",
              "      <td>186.69</td>\n",
              "    </tr>\n",
              "    <tr>\n",
              "      <th>30</th>\n",
              "      <td>XOne</td>\n",
              "      <td>51.59</td>\n",
              "      <td>0.34</td>\n",
              "      <td>93.12</td>\n",
              "    </tr>\n",
              "  </tbody>\n",
              "</table>\n",
              "</div>"
            ],
            "text/plain": [
              "   platform  eu_sales  jp_sales  na_sales\n",
              "0      2600      5.47      0.00     90.60\n",
              "1       3DO      0.00      0.10      0.00\n",
              "2       3DS     61.48    100.67     83.49\n",
              "3        DC      1.69      8.56      5.43\n",
              "4        DS    188.89    175.57    382.40\n",
              "5        GB     47.82     85.12    114.32\n",
              "6       GBA     75.25     47.33    187.54\n",
              "7        GC     38.71     21.58    133.46\n",
              "8       GEN      5.52      2.67     19.27\n",
              "9        GG      0.00      0.04      0.00\n",
              "10      N64     41.06     34.22    139.02\n",
              "11      NES     21.15     98.65    125.94\n",
              "12       NG      0.00      1.44      0.00\n",
              "13       PC    142.44      0.17     94.53\n",
              "14     PCFX      0.00      0.03      0.00\n",
              "15       PS    213.61    139.82    336.52\n",
              "16      PS2    339.29    139.20    583.84\n",
              "17      PS3    330.29     80.19    393.49\n",
              "18      PS4    141.09     15.96    108.74\n",
              "19      PSP     66.68     76.78    109.17\n",
              "20      PSV     13.12     21.91     12.58\n",
              "21      SAT      0.54     32.26      0.72\n",
              "22      SCD      0.36      0.45      1.00\n",
              "23     SNES     19.04    116.55     61.23\n",
              "24     TG16      0.00      0.16      0.00\n",
              "25       WS      0.00      1.42      0.00\n",
              "26      Wii    262.21     69.33    496.90\n",
              "27     WiiU     25.13     13.01     38.10\n",
              "28     X360    270.76     12.43    602.47\n",
              "29       XB     60.95      1.38    186.69\n",
              "30     XOne     51.59      0.34     93.12"
            ]
          },
          "metadata": {
            "tags": []
          },
          "execution_count": 77
        }
      ]
    },
    {
      "cell_type": "markdown",
      "metadata": {
        "id": "T5xoAXASCIyy"
      },
      "source": [
        "Now I will draw some graphs of the 5 top platforms in each of the regions. "
      ]
    },
    {
      "cell_type": "code",
      "metadata": {
        "colab": {
          "base_uri": "https://localhost:8080/"
        },
        "id": "w2SPKUr148WW",
        "outputId": "e9340d37-bb4b-4f6e-eb5f-aa91e5c64979"
      },
      "source": [
        "regions.columns"
      ],
      "execution_count": 78,
      "outputs": [
        {
          "output_type": "execute_result",
          "data": {
            "text/plain": [
              "Index(['platform', 'eu_sales', 'jp_sales', 'na_sales'], dtype='object')"
            ]
          },
          "metadata": {
            "tags": []
          },
          "execution_count": 78
        }
      ]
    },
    {
      "cell_type": "code",
      "metadata": {
        "id": "BWICMv3_6d94"
      },
      "source": [
        "palettes = [\"PRGn\", \"BrBG\", \"RdGy\"]"
      ],
      "execution_count": 79,
      "outputs": []
    },
    {
      "cell_type": "code",
      "metadata": {
        "colab": {
          "base_uri": "https://localhost:8080/",
          "height": 1000
        },
        "id": "8weTn7zO5D4I",
        "outputId": "d0041bc4-0c36-4a06-8abb-61a28994e075"
      },
      "source": [
        "# iterate over the columns and draw plots of the top 5 platforms in each\n",
        "\n",
        "for i in range(1,len(regions.columns)):\n",
        "  data = regions.sort_values(regions.columns[i], ascending=False).head()\n",
        "  ax = sns.barplot(x='platform', y=regions.columns[i], data=data, palette=palettes[i-1])\n",
        "  plt.title('Sales per platform ' + regions.columns[i] + ' (Million $)')\n",
        "  plt.setp(ax.get_xticklabels(), rotation=45, fontsize=9)\n",
        "  print()\n",
        "  print()\n",
        "  plt.show()"
      ],
      "execution_count": 80,
      "outputs": [
        {
          "output_type": "stream",
          "text": [
            "\n",
            "\n"
          ],
          "name": "stdout"
        },
        {
          "output_type": "display_data",
          "data": {
            "image/png": "[encoded data removed]",
            "text/plain": [
              "<Figure size 432x288 with 1 Axes>"
            ]
          },
          "metadata": {
            "tags": []
          }
        },
        {
          "output_type": "stream",
          "text": [
            "\n",
            "\n"
          ],
          "name": "stdout"
        },
        {
          "output_type": "display_data",
          "data": {
            "image/png": "[encoded data removed]",
            "text/plain": [
              "<Figure size 432x288 with 1 Axes>"
            ]
          },
          "metadata": {
            "tags": []
          }
        },
        {
          "output_type": "stream",
          "text": [
            "\n",
            "\n"
          ],
          "name": "stdout"
        },
        {
          "output_type": "display_data",
          "data": {
            "image/png": "[encoded data removed]",
            "text/plain": [
              "<Figure size 432x288 with 1 Axes>"
            ]
          },
          "metadata": {
            "tags": []
          }
        }
      ]
    },
    {
      "cell_type": "markdown",
      "metadata": {
        "id": "DQu0TkRW9WfG"
      },
      "source": [
        "X360 and Wii sales very good in NA and EU but not so in JP.  PS/PS2/PS3 sales very good in all of the regions, and so DS as well. On the other hand, the SENS3 and DS3 sales very good in JP but not so in EU and NA. Well, this is absolutly make sense: SENS3 and DS3 are Nintendo products, which is japanease company that do not very prevalent globaly. X360 is Microsoft's product and probably therfore do not very prevalent at Japan. "
      ]
    },
    {
      "cell_type": "markdown",
      "metadata": {
        "id": "tcyEnNbtGMYc"
      },
      "source": [
        "Now is the turn of genre to be analyzed by different regions. "
      ]
    },
    {
      "cell_type": "code",
      "metadata": {
        "id": "FUaqPPTBC7lF"
      },
      "source": [
        "regions_g = games.pivot_table(index='genre', \n",
        "                            values = ['na_sales', 'eu_sales', 'jp_sales'],\n",
        "                            aggfunc = 'sum')\n",
        "\n",
        "regions_g = regions_g.reset_index()"
      ],
      "execution_count": 81,
      "outputs": []
    },
    {
      "cell_type": "code",
      "metadata": {
        "colab": {
          "base_uri": "https://localhost:8080/",
          "height": 425
        },
        "id": "lnI1rcloDvL4",
        "outputId": "f4673828-a50a-4e6a-ead3-85bea27e006e"
      },
      "source": [
        "regions_g"
      ],
      "execution_count": 82,
      "outputs": [
        {
          "output_type": "execute_result",
          "data": {
            "text/html": [
              "<div>\n",
              "<style scoped>\n",
              "    .dataframe tbody tr th:only-of-type {\n",
              "        vertical-align: middle;\n",
              "    }\n",
              "\n",
              "    .dataframe tbody tr th {\n",
              "        vertical-align: top;\n",
              "    }\n",
              "\n",
              "    .dataframe thead th {\n",
              "        text-align: right;\n",
              "    }\n",
              "</style>\n",
              "<table border=\"1\" class=\"dataframe\">\n",
              "  <thead>\n",
              "    <tr style=\"text-align: right;\">\n",
              "      <th></th>\n",
              "      <th>genre</th>\n",
              "      <th>eu_sales</th>\n",
              "      <th>jp_sales</th>\n",
              "      <th>na_sales</th>\n",
              "    </tr>\n",
              "  </thead>\n",
              "  <tbody>\n",
              "    <tr>\n",
              "      <th>0</th>\n",
              "      <td>Action</td>\n",
              "      <td>519.13</td>\n",
              "      <td>161.43</td>\n",
              "      <td>879.01</td>\n",
              "    </tr>\n",
              "    <tr>\n",
              "      <th>1</th>\n",
              "      <td>Adventure</td>\n",
              "      <td>63.54</td>\n",
              "      <td>52.30</td>\n",
              "      <td>105.26</td>\n",
              "    </tr>\n",
              "    <tr>\n",
              "      <th>2</th>\n",
              "      <td>Fighting</td>\n",
              "      <td>100.33</td>\n",
              "      <td>87.48</td>\n",
              "      <td>223.36</td>\n",
              "    </tr>\n",
              "    <tr>\n",
              "      <th>3</th>\n",
              "      <td>Misc</td>\n",
              "      <td>212.74</td>\n",
              "      <td>108.11</td>\n",
              "      <td>407.27</td>\n",
              "    </tr>\n",
              "    <tr>\n",
              "      <th>4</th>\n",
              "      <td>Platform</td>\n",
              "      <td>200.35</td>\n",
              "      <td>130.83</td>\n",
              "      <td>445.50</td>\n",
              "    </tr>\n",
              "    <tr>\n",
              "      <th>5</th>\n",
              "      <td>Puzzle</td>\n",
              "      <td>50.01</td>\n",
              "      <td>57.31</td>\n",
              "      <td>122.87</td>\n",
              "    </tr>\n",
              "    <tr>\n",
              "      <th>6</th>\n",
              "      <td>Racing</td>\n",
              "      <td>236.51</td>\n",
              "      <td>56.71</td>\n",
              "      <td>359.35</td>\n",
              "    </tr>\n",
              "    <tr>\n",
              "      <th>7</th>\n",
              "      <td>Role-Playing</td>\n",
              "      <td>188.71</td>\n",
              "      <td>355.41</td>\n",
              "      <td>330.81</td>\n",
              "    </tr>\n",
              "    <tr>\n",
              "      <th>8</th>\n",
              "      <td>Shooter</td>\n",
              "      <td>317.34</td>\n",
              "      <td>38.76</td>\n",
              "      <td>592.24</td>\n",
              "    </tr>\n",
              "    <tr>\n",
              "      <th>9</th>\n",
              "      <td>Simulation</td>\n",
              "      <td>113.52</td>\n",
              "      <td>63.80</td>\n",
              "      <td>181.92</td>\n",
              "    </tr>\n",
              "    <tr>\n",
              "      <th>10</th>\n",
              "      <td>Sports</td>\n",
              "      <td>376.79</td>\n",
              "      <td>135.54</td>\n",
              "      <td>684.43</td>\n",
              "    </tr>\n",
              "    <tr>\n",
              "      <th>11</th>\n",
              "      <td>Strategy</td>\n",
              "      <td>45.17</td>\n",
              "      <td>49.66</td>\n",
              "      <td>68.55</td>\n",
              "    </tr>\n",
              "  </tbody>\n",
              "</table>\n",
              "</div>"
            ],
            "text/plain": [
              "           genre  eu_sales  jp_sales  na_sales\n",
              "0         Action    519.13    161.43    879.01\n",
              "1      Adventure     63.54     52.30    105.26\n",
              "2       Fighting    100.33     87.48    223.36\n",
              "3           Misc    212.74    108.11    407.27\n",
              "4       Platform    200.35    130.83    445.50\n",
              "5         Puzzle     50.01     57.31    122.87\n",
              "6         Racing    236.51     56.71    359.35\n",
              "7   Role-Playing    188.71    355.41    330.81\n",
              "8        Shooter    317.34     38.76    592.24\n",
              "9     Simulation    113.52     63.80    181.92\n",
              "10        Sports    376.79    135.54    684.43\n",
              "11      Strategy     45.17     49.66     68.55"
            ]
          },
          "metadata": {
            "tags": []
          },
          "execution_count": 82
        }
      ]
    },
    {
      "cell_type": "code",
      "metadata": {
        "colab": {
          "base_uri": "https://localhost:8080/",
          "height": 1000
        },
        "id": "EPQpikbjDv6M",
        "outputId": "c34e4348-efac-41aa-9b39-31336abb1e53"
      },
      "source": [
        "for i in range(1,len(regions_g.columns)):\n",
        "  data = regions_g.sort_values(regions_g.columns[i], ascending=False).head()\n",
        "  ax = sns.barplot(x='genre', y=regions_g.columns[i], data=data, palette=palettes[i-1])\n",
        "  plt.title('Sales per genre ' + regions_g.columns[i] + ' (Million $)')\n",
        "  plt.setp(ax.get_xticklabels(), rotation=45, fontsize=9)\n",
        "  print()\n",
        "  print()\n",
        "  plt.show()"
      ],
      "execution_count": 83,
      "outputs": [
        {
          "output_type": "stream",
          "text": [
            "\n",
            "\n"
          ],
          "name": "stdout"
        },
        {
          "output_type": "display_data",
          "data": {
            "image/png": "[encoded data removed]",
            "text/plain": [
              "<Figure size 432x288 with 1 Axes>"
            ]
          },
          "metadata": {
            "tags": []
          }
        },
        {
          "output_type": "stream",
          "text": [
            "\n",
            "\n"
          ],
          "name": "stdout"
        },
        {
          "output_type": "display_data",
          "data": {
            "image/png": "[encoded data removed]",
            "text/plain": [
              "<Figure size 432x288 with 1 Axes>"
            ]
          },
          "metadata": {
            "tags": []
          }
        },
        {
          "output_type": "stream",
          "text": [
            "\n",
            "\n"
          ],
          "name": "stdout"
        },
        {
          "output_type": "display_data",
          "data": {
            "image/png": "[encoded data removed]",
            "text/plain": [
              "<Figure size 432x288 with 1 Axes>"
            ]
          },
          "metadata": {
            "tags": []
          }
        }
      ]
    },
    {
      "cell_type": "markdown",
      "metadata": {
        "id": "w-An9ZxvGcaK"
      },
      "source": [
        "Action and sport is popular in all of the region, But in Japan the most popular is Role-Playing games Which is part of the Japanease culture and tradition. In europe, racing games are among the most popular ones, which is also make sense, since car racing is very europian sport."
      ]
    },
    {
      "cell_type": "markdown",
      "metadata": {
        "id": "kVrCGbRCNi0C"
      },
      "source": [
        "Last thing to check is how rating afect sales in each region."
      ]
    },
    {
      "cell_type": "code",
      "metadata": {
        "colab": {
          "base_uri": "https://localhost:8080/",
          "height": 1000
        },
        "id": "hrgG6Cn4NtrJ",
        "outputId": "72b70de8-8fd7-46ee-be12-1f0bace00b05"
      },
      "source": [
        "for i in range(1,len(regions.columns)):\n",
        "  ax = sns.barplot(x='rating',\n",
        "              y=regions.columns[i],\n",
        "              data=games,\n",
        "              estimator=sum,\n",
        "              ci=None)\n",
        "  plt.title(regions.columns[i] + ' per rating group (USD Dollars)')\n",
        "  plt.setp(ax.get_xticklabels(), rotation=45, fontsize=9)\n",
        "  print()\n",
        "  print()\n",
        "  plt.show()"
      ],
      "execution_count": 84,
      "outputs": [
        {
          "output_type": "stream",
          "text": [
            "\n",
            "\n"
          ],
          "name": "stdout"
        },
        {
          "output_type": "display_data",
          "data": {
            "image/png": "[encoded data removed]",
            "text/plain": [
              "<Figure size 432x288 with 1 Axes>"
            ]
          },
          "metadata": {
            "tags": []
          }
        },
        {
          "output_type": "stream",
          "text": [
            "\n",
            "\n"
          ],
          "name": "stdout"
        },
        {
          "output_type": "display_data",
          "data": {
            "image/png": "[encoded data removed]",
            "text/plain": [
              "<Figure size 432x288 with 1 Axes>"
            ]
          },
          "metadata": {
            "tags": []
          }
        },
        {
          "output_type": "stream",
          "text": [
            "\n",
            "\n"
          ],
          "name": "stdout"
        },
        {
          "output_type": "display_data",
          "data": {
            "image/png": "[encoded data removed]",
            "text/plain": [
              "<Figure size 432x288 with 1 Axes>"
            ]
          },
          "metadata": {
            "tags": []
          }
        }
      ]
    },
    {
      "cell_type": "markdown",
      "metadata": {
        "id": "MHGOKSQMP-rw"
      },
      "source": [
        "One important thing to note is the different in the relation of adults/teen games. while in japan most of the players are kids, which is absolutly reasonable since the population is very young on average, in europe there is more sales of adults games than of teen games! In NA the sales of adults vs. teen games are equal."
      ]
    },
    {
      "cell_type": "markdown",
      "metadata": {
        "id": "D84CPu3BQsHE"
      },
      "source": [
        "## Conclusion: User profile"
      ]
    },
    {
      "cell_type": "markdown",
      "metadata": {
        "id": "i7xEhs4GQ1PK"
      },
      "source": [
        "In japan the most preferable platforms are those of Japenease companies such as Ninetdo's DS3 and SENS. The most common genre is role-playing games, and the users are very young in average.\n",
        "\n",
        "In europe, the most preferable platforms are PSs X360 and Wii. Among the most preferable genres is Racing and the sales of adults games is higher than teens games.\n",
        "\n",
        "In North Americe DS is among the most prevalent platforms and Adults vs Teens games are equaly sold."
      ]
    },
    {
      "cell_type": "markdown",
      "metadata": {
        "id": "wZdRLyHdq88w"
      },
      "source": [
        "# Testing Hypothesis"
      ]
    },
    {
      "cell_type": "markdown",
      "metadata": {
        "id": "mNYK8sRQrCXX"
      },
      "source": [
        "Null Hypotheses: Average user ratings of the Xbox One and PC platforms are the same.\n",
        "\n",
        "Alternative Hypotheses: Average user ratings of the Xbox One and PC platforms are different.\n",
        "\n",
        "In formulating the hypotheses, the null hypotheses is alawayes the hypotheses that say that the 2 means are the same, and this the assumption we examine. If p-value is less that 5 percent we reject this assumprion and conclude that the different in the means is statisticaly significance. I choose the limit of 0.05 since this is standard limit to use it t-test. "
      ]
    },
    {
      "cell_type": "code",
      "metadata": {
        "colab": {
          "base_uri": "https://localhost:8080/"
        },
        "id": "ZIbymf_bYBYW",
        "outputId": "5a74cbce-9be2-4731-b327-ba994d177fd9"
      },
      "source": [
        "xone = games[games['platform'] == 'XOne']['user_score'].dropna()\n",
        "pc = games[games['platform'] == 'PC']['user_score'].dropna()\n",
        "\n",
        "alpha = 0.05\n",
        "\n",
        "results = st.ttest_ind(xone, pc)\n",
        "\n",
        "print('p-value: ', results.pvalue)\n",
        "\n",
        "if results.pvalue < alpha:\n",
        "    print(\"We reject the null hypothesis\")\n",
        "else:\n",
        "    print(\"We can't reject the null hypothesis\")"
      ],
      "execution_count": 85,
      "outputs": [
        {
          "output_type": "stream",
          "text": [
            "p-value:  1.3896435533548407e-05\n",
            "We reject the null hypothesis\n"
          ],
          "name": "stdout"
        }
      ]
    },
    {
      "cell_type": "code",
      "metadata": {
        "colab": {
          "base_uri": "https://localhost:8080/",
          "height": 52
        },
        "id": "kTT2VKxfev-J",
        "outputId": "0beed68d-27ce-4ab6-c3b3-c4148362b542"
      },
      "source": [
        "display(xone.mean())\n",
        "display(pc.mean())"
      ],
      "execution_count": 86,
      "outputs": [
        {
          "output_type": "display_data",
          "data": {
            "text/plain": [
              "65.21428571428571"
            ]
          },
          "metadata": {
            "tags": []
          }
        },
        {
          "output_type": "display_data",
          "data": {
            "text/plain": [
              "70.62467532467532"
            ]
          },
          "metadata": {
            "tags": []
          }
        }
      ]
    },
    {
      "cell_type": "markdown",
      "metadata": {
        "id": "jzNxlWUNhO9D"
      },
      "source": [
        "We can conclude that: Average user ratings of the Xbox One and PC platforms are different. From calculate the mean we know that pc rating average is higher."
      ]
    },
    {
      "cell_type": "markdown",
      "metadata": {
        "id": "m3EdKSg6e_TG"
      },
      "source": [
        "Null Hypotheses: Average user ratings for the Action and Sports genres are the same\n",
        "\n",
        "Alternative Hypotheses: Average user ratings for the Action and Sports genres are different."
      ]
    },
    {
      "cell_type": "code",
      "metadata": {
        "colab": {
          "base_uri": "https://localhost:8080/"
        },
        "id": "O38Of-g8e_ug",
        "outputId": "5dd64042-083e-449c-b4a5-9269f41fd8ce"
      },
      "source": [
        "sports = games[games['genre'] == 'Sports']['user_score'].dropna()\n",
        "action = games[games['genre'] == 'Action']['user_score'].dropna()\n",
        "\n",
        "alpha = 0.05\n",
        "\n",
        "results = st.ttest_ind(sports, action)\n",
        "\n",
        "print('p-value: ', results.pvalue)\n",
        "\n",
        "if results.pvalue < alpha:\n",
        "    print(\"We reject the null hypothesis\")\n",
        "else:\n",
        "    print(\"We can't reject the null hypothesis\")"
      ],
      "execution_count": 87,
      "outputs": [
        {
          "output_type": "stream",
          "text": [
            "p-value:  0.10406951359050075\n",
            "We can't reject the null hypothesis\n"
          ],
          "name": "stdout"
        }
      ]
    },
    {
      "cell_type": "code",
      "metadata": {
        "colab": {
          "base_uri": "https://localhost:8080/",
          "height": 52
        },
        "id": "3SUrFH5pfjGH",
        "outputId": "bc5550e4-3ead-40f3-b5fb-607fab825d63"
      },
      "source": [
        "display(sports.mean())\n",
        "display(action.mean())"
      ],
      "execution_count": 88,
      "outputs": [
        {
          "output_type": "display_data",
          "data": {
            "text/plain": [
              "69.61196736174071"
            ]
          },
          "metadata": {
            "tags": []
          }
        },
        {
          "output_type": "display_data",
          "data": {
            "text/plain": [
              "70.54043715846994"
            ]
          },
          "metadata": {
            "tags": []
          }
        }
      ]
    },
    {
      "cell_type": "markdown",
      "metadata": {
        "id": "SimYhF8Vhocl"
      },
      "source": [
        "We can't reject the null hypothesis, so we have to stay with the assumption that: Average user ratings for the Action and Sports genres are the same."
      ]
    },
    {
      "cell_type": "markdown",
      "metadata": {
        "id": "UTu-9zC4XbGS"
      },
      "source": [
        "# General Conclusion"
      ]
    },
    {
      "cell_type": "markdown",
      "metadata": {
        "id": "OeXiieGMXhTe"
      },
      "source": [
        "In this project I examine the parameters that affect the revenues different video-game yield.\n",
        "\n",
        "Several important insights raise from the analysis above. First thing to note is that platform's life-long is around 10 years. After 10 years, most of the platforms would not be in use at all. Very important when we want to develop a game or to launch campaign.\n",
        "\n",
        "In addition, in all of the platforms there is a huge variance between different games on the same platform and between same game played on different platforms. The conclusion is that we have to direct the campaign to specific game and not to a platform in general, but to remember that the platform is also very important. So we have to terget good game in popular and atractive platform.\n",
        "\n",
        "In regerd with scoring, I find that good scoring (especially critic scoring but also user scoring) is neccessary condition for good sales, but is not sufficiant condition. There is games that get high scoring but its sales performance are very poor.\n",
        "\n",
        "additional conclusion is that there are important differences between users from different regions: \n",
        "- in **japan** the most preferable platforms are those of Japenease companies such as Ninetdo's DS3 and SENS. The most common genre is role-playing games, and the users are very young in average.  \n",
        "- In **europe**, the most preferable platforms are PSs X360 and Wii. Among the most preferable genres is Racing and the sales of adults games is higher than teens games.\n",
        "- In **North Americe** DS is among the most prevalent platforms and Adults vs Teens games are equaly sold.\n",
        "\n",
        "Last thing to note is that statistically speaking there is a difference between XOne and PC platforms in favour of PC in terms of average revenue per game. In regard with genres - there is no statistically significant difference between Action and sports games."
      ]
    }
  ]
}